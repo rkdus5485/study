{
  "nbformat": 4,
  "nbformat_minor": 0,
  "metadata": {
    "colab": {
      "name": "pca.ipynb",
      "provenance": [],
      "authorship_tag": "ABX9TyNcY1kBAxvgsloHH9rZ9HyZ",
      "include_colab_link": true
    },
    "kernelspec": {
      "display_name": "Python 3",
      "name": "python3"
    },
    "language_info": {
      "name": "python"
    }
  },
  "cells": [
    {
      "cell_type": "markdown",
      "metadata": {
        "id": "view-in-github",
        "colab_type": "text"
      },
      "source": [
        "<a href=\"https://colab.research.google.com/github/rkdus5485/study/blob/master/pca_rantrain_ncomp%3D10.ipynb\" target=\"_parent\"><img src=\"https://colab.research.google.com/assets/colab-badge.svg\" alt=\"Open In Colab\"/></a>"
      ]
    },
    {
      "cell_type": "code",
      "metadata": {
        "colab": {
          "base_uri": "https://localhost:8080/"
        },
        "id": "M6AgYyqDEVKg",
        "outputId": "08f44914-e64b-49be-a764-99a011cbe708"
      },
      "source": [
        "from google.colab import drive\n",
        "drive.mount('/content/drive')"
      ],
      "execution_count": 5,
      "outputs": [
        {
          "output_type": "stream",
          "text": [
            "Drive already mounted at /content/drive; to attempt to forcibly remount, call drive.mount(\"/content/drive\", force_remount=True).\n"
          ],
          "name": "stdout"
        }
      ]
    },
    {
      "cell_type": "code",
      "metadata": {
        "id": "XahE8ADoEvmX"
      },
      "source": [
        "from PIL import Image\n",
        "import numpy as np\n",
        "import matplotlib.pyplot as plt"
      ],
      "execution_count": 6,
      "outputs": []
    },
    {
      "cell_type": "code",
      "metadata": {
        "id": "31zALFQYEG2-"
      },
      "source": [
        "import os\n",
        "import random"
      ],
      "execution_count": 15,
      "outputs": []
    },
    {
      "cell_type": "code",
      "metadata": {
        "id": "DrhiCZZLEw1k"
      },
      "source": [
        "subject=[]\n",
        "ori_subject=[]\n",
        "for i in range(1,41):\n",
        "  path = '/content/drive/MyDrive/att_faces/s'+str(i)\n",
        "  file_list = os.listdir(path)\n",
        "  for j in range(10):\n",
        "    with Image.open(path+\"/\"+file_list[j]) as im:\n",
        "      a = np.asarray(im)\n",
        "      ori_subject.append(a)\n",
        "      a_1=a.reshape(112*92,)\n",
        "      subject.append(a_1)\n",
        "\n",
        "subject=np.asarray(subject)\n",
        "ori_subject = np.asarray(ori_subject)"
      ],
      "execution_count": 16,
      "outputs": []
    },
    {
      "cell_type": "code",
      "metadata": {
        "colab": {
          "base_uri": "https://localhost:8080/"
        },
        "id": "bZg8K12UERgV",
        "outputId": "a2f67c49-7b5d-4ca8-e2aa-94165380bf12"
      },
      "source": [
        "print(subject, subject.shape)"
      ],
      "execution_count": 17,
      "outputs": [
        {
          "output_type": "stream",
          "text": [
            "[[ 34  34  33 ...  37  40  33]\n",
            " [ 44  43  32 ...  43  43  37]\n",
            " [ 39  44  53 ...  29  26  29]\n",
            " ...\n",
            " [128 125 125 ...  85  90  84]\n",
            " [119 120 120 ...  89  94  85]\n",
            " [123 121 126 ...  40  35  42]] (400, 10304)\n"
          ],
          "name": "stdout"
        }
      ]
    },
    {
      "cell_type": "code",
      "metadata": {
        "colab": {
          "base_uri": "https://localhost:8080/"
        },
        "id": "KZt6mKGsE0ar",
        "outputId": "aa5517ad-3cc1-4b28-9247-8326f3d376a8"
      },
      "source": [
        "subject[399]"
      ],
      "execution_count": 18,
      "outputs": [
        {
          "output_type": "execute_result",
          "data": {
            "text/plain": [
              "array([123, 121, 126, ...,  40,  35,  42], dtype=uint8)"
            ]
          },
          "metadata": {
            "tags": []
          },
          "execution_count": 18
        }
      ]
    },
    {
      "cell_type": "code",
      "metadata": {
        "id": "OZ1Vg1uPD-Sv"
      },
      "source": [
        "subject=[]\n",
        "ori_subject=[]\n",
        "for i in range(1,41):\n",
        "  path = '/content/drive/MyDrive/att_faces/s'+str(i)\n",
        "  file_list = os.listdir(path)\n",
        "  line=[]\n",
        "  line_1=[]\n",
        "  for j in range(10):\n",
        "    with Image.open(path+\"/\"+file_list[j]) as im:\n",
        "      a = np.asarray(im)\n",
        "      line.append(a)\n",
        "      \n",
        "      a_1=a.reshape(112*92,)\n",
        "      line_1.append(a_1)\n",
        "  ori_subject.append(line)\n",
        "  subject.append(line_1)\n",
        "\n",
        "subject=np.asarray(subject)\n",
        "ori_subject = np.asarray(ori_subject)"
      ],
      "execution_count": 19,
      "outputs": []
    },
    {
      "cell_type": "code",
      "metadata": {
        "colab": {
          "base_uri": "https://localhost:8080/"
        },
        "id": "3d7XlSExCncW",
        "outputId": "cd61dfce-b135-4f72-cbb7-bd458948850f"
      },
      "source": [
        "subject.shape"
      ],
      "execution_count": 20,
      "outputs": [
        {
          "output_type": "execute_result",
          "data": {
            "text/plain": [
              "(40, 10, 10304)"
            ]
          },
          "metadata": {
            "tags": []
          },
          "execution_count": 20
        }
      ]
    },
    {
      "cell_type": "code",
      "metadata": {
        "colab": {
          "base_uri": "https://localhost:8080/"
        },
        "id": "6HYsWjbCCnk3",
        "outputId": "e9265b4e-90b3-49f6-b4f0-113d6c888fe0"
      },
      "source": [
        "subject[0].shape"
      ],
      "execution_count": 21,
      "outputs": [
        {
          "output_type": "execute_result",
          "data": {
            "text/plain": [
              "(10, 10304)"
            ]
          },
          "metadata": {
            "tags": []
          },
          "execution_count": 21
        }
      ]
    },
    {
      "cell_type": "code",
      "metadata": {
        "colab": {
          "base_uri": "https://localhost:8080/"
        },
        "id": "XOvKigM_Gx88",
        "outputId": "10cbb2be-83ac-4ee9-8ee0-03b589570316"
      },
      "source": [
        "train=[]\n",
        "ori_train=[]\n",
        "test=[]\n",
        "ori_test=[]\n",
        "\n",
        "ran_list = []\n",
        "train_index=[]\n",
        "\n",
        "for i in range(40):\n",
        "  ran_list.append(i)\n",
        "test_index = random.sample(ran_list,5)\n",
        "\n",
        "for i in range(5):\n",
        "  test.append(subject[test_index[i]])\n",
        "test=np.asarray(test)\n",
        "test= test.reshape(5*10,10304)\n",
        "ori_test = test.reshape(50,112,92)\n",
        "print('test index : ', test_index)\n",
        "print(test, test.shape)\n",
        "\n",
        "for i in range(40):\n",
        "  is_test=False\n",
        "  for j in test_index:\n",
        "    \n",
        "    if i == j:\n",
        "      is_test=True\n",
        "      continue\n",
        "  if is_test == True:\n",
        "    continue\n",
        "  train_index.append(i)\n",
        "  train.append(subject[i])\n",
        "  #print('trian index = ', i )\n",
        "train=np.asarray(train)\n",
        "train = train.reshape(35*10, 10304)\n",
        "ori_train=train.reshape(350,112,92)\n",
        "print(train, train.shape)\n",
        "print('train index : ',train_index)"
      ],
      "execution_count": 22,
      "outputs": [
        {
          "output_type": "stream",
          "text": [
            "test index :  [1, 35, 4, 6, 10]\n",
            "[[30 37 35 ... 26 27 32]\n",
            " [37 35 35 ... 26 28 28]\n",
            " [34 36 35 ... 32 25 25]\n",
            " ...\n",
            " [51 48 43 ... 29 28 32]\n",
            " [44 48 45 ... 33 36 37]\n",
            " [50 46 49 ... 33 33 41]] (50, 10304)\n",
            "[[ 34  34  33 ...  37  40  33]\n",
            " [ 44  43  32 ...  43  43  37]\n",
            " [ 39  44  53 ...  29  26  29]\n",
            " ...\n",
            " [128 125 125 ...  85  90  84]\n",
            " [119 120 120 ...  89  94  85]\n",
            " [123 121 126 ...  40  35  42]] (350, 10304)\n",
            "train index :  [0, 2, 3, 5, 7, 8, 9, 11, 12, 13, 14, 15, 16, 17, 18, 19, 20, 21, 22, 23, 24, 25, 26, 27, 28, 29, 30, 31, 32, 33, 34, 36, 37, 38, 39]\n"
          ],
          "name": "stdout"
        }
      ]
    },
    {
      "cell_type": "code",
      "metadata": {
        "id": "YN0KHGOlGy8N"
      },
      "source": [
        ""
      ],
      "execution_count": 22,
      "outputs": []
    },
    {
      "cell_type": "code",
      "metadata": {
        "id": "rk4XBqFZE21m"
      },
      "source": [
        ""
      ],
      "execution_count": 22,
      "outputs": []
    },
    {
      "cell_type": "code",
      "metadata": {
        "id": "6GMHQ_q1klXj"
      },
      "source": [
        ""
      ],
      "execution_count": 22,
      "outputs": []
    },
    {
      "cell_type": "code",
      "metadata": {
        "colab": {
          "base_uri": "https://localhost:8080/"
        },
        "id": "YbDy9W-gFB8D",
        "outputId": "356914cf-3150-4f35-e672-dcc45ab7c8d1"
      },
      "source": [
        "print(train, train.shape)"
      ],
      "execution_count": 23,
      "outputs": [
        {
          "output_type": "stream",
          "text": [
            "[[ 34  34  33 ...  37  40  33]\n",
            " [ 44  43  32 ...  43  43  37]\n",
            " [ 39  44  53 ...  29  26  29]\n",
            " ...\n",
            " [128 125 125 ...  85  90  84]\n",
            " [119 120 120 ...  89  94  85]\n",
            " [123 121 126 ...  40  35  42]] (350, 10304)\n"
          ],
          "name": "stdout"
        }
      ]
    },
    {
      "cell_type": "code",
      "metadata": {
        "colab": {
          "base_uri": "https://localhost:8080/"
        },
        "id": "_Zo2_7MBGfps",
        "outputId": "ffc71b58-1ff0-43a8-c53d-d45483d26c6d"
      },
      "source": [
        "print(ori_train, ori_train.shape)"
      ],
      "execution_count": 24,
      "outputs": [
        {
          "output_type": "stream",
          "text": [
            "[[[ 34  34  33 ...   1   1   1]\n",
            "  [ 35  30  32 ...  38  47  39]\n",
            "  [ 34  28  31 ...  55  59  49]\n",
            "  ...\n",
            "  [ 30  29  31 ...  35  37  41]\n",
            "  [ 31  29  32 ...  42  34  39]\n",
            "  [ 28  33  27 ...  37  40  33]]\n",
            "\n",
            " [[ 44  43  32 ...  52  48  52]\n",
            "  [ 44  38  33 ...  51  51  54]\n",
            "  [ 41  42  29 ...  50  53  53]\n",
            "  ...\n",
            "  [ 39  37  39 ...  41  37  37]\n",
            "  [ 41  41  38 ...  44  36  32]\n",
            "  [ 40  36  42 ...  43  43  37]]\n",
            "\n",
            " [[ 39  44  53 ...  47  48  47]\n",
            "  [ 44  44  61 ...  47  45  46]\n",
            "  [ 59  39  57 ...  46  46  44]\n",
            "  ...\n",
            "  [ 49  46  42 ...  30  32  28]\n",
            "  [ 46  35  34 ...  30  29  27]\n",
            "  [ 32  37  27 ...  29  26  29]]\n",
            "\n",
            " ...\n",
            "\n",
            " [[128 125 125 ... 121 122 121]\n",
            "  [129 127 128 ... 125 121 125]\n",
            "  [126 126 131 ... 124 124 125]\n",
            "  ...\n",
            "  [ 71  65  90 ...  90  86  90]\n",
            "  [ 72  75  99 ...  86  88  91]\n",
            "  [ 63  87 100 ...  85  90  84]]\n",
            "\n",
            " [[119 120 120 ... 129 128 124]\n",
            "  [118 121 120 ... 126 124 127]\n",
            "  [120 119 118 ... 121 128 127]\n",
            "  ...\n",
            "  [ 64  61  64 ...  89  92  88]\n",
            "  [ 64  63  58 ...  93  90  92]\n",
            "  [ 65  61  63 ...  89  94  85]]\n",
            "\n",
            " [[123 121 126 ... 120 117 120]\n",
            "  [128 123 125 ... 120 119 121]\n",
            "  [126 124 123 ... 118 122 121]\n",
            "  ...\n",
            "  [ 84  95  90 ...  38  37  44]\n",
            "  [ 94  88  91 ...  35  45  39]\n",
            "  [ 89  94  89 ...  40  35  42]]] (350, 112, 92)\n"
          ],
          "name": "stdout"
        }
      ]
    },
    {
      "cell_type": "code",
      "metadata": {
        "id": "YKSd9XeRGhVu"
      },
      "source": [
        "from sklearn.decomposition import PCA"
      ],
      "execution_count": 25,
      "outputs": []
    },
    {
      "cell_type": "code",
      "metadata": {
        "id": "Jh91bPZ2HW31"
      },
      "source": [
        "pca = PCA(n_components=3)"
      ],
      "execution_count": 26,
      "outputs": []
    },
    {
      "cell_type": "code",
      "metadata": {
        "colab": {
          "base_uri": "https://localhost:8080/"
        },
        "id": "lsWmMCHPee55",
        "outputId": "ffec25fd-72e7-424c-d11b-5c023fd623b1"
      },
      "source": [
        "pca.fit(train)"
      ],
      "execution_count": 27,
      "outputs": [
        {
          "output_type": "execute_result",
          "data": {
            "text/plain": [
              "PCA(copy=True, iterated_power='auto', n_components=3, random_state=None,\n",
              "    svd_solver='auto', tol=0.0, whiten=False)"
            ]
          },
          "metadata": {
            "tags": []
          },
          "execution_count": 27
        }
      ]
    },
    {
      "cell_type": "code",
      "metadata": {
        "colab": {
          "base_uri": "https://localhost:8080/"
        },
        "id": "ot9zik9fN_EO",
        "outputId": "e3ea4cdb-5abe-4ab8-aec0-55be574c5c4e"
      },
      "source": [
        "test_reduced = pca.fit_transform(test)\n",
        "test_reduced.shape"
      ],
      "execution_count": 28,
      "outputs": [
        {
          "output_type": "execute_result",
          "data": {
            "text/plain": [
              "(50, 3)"
            ]
          },
          "metadata": {
            "tags": []
          },
          "execution_count": 28
        }
      ]
    },
    {
      "cell_type": "code",
      "metadata": {
        "colab": {
          "base_uri": "https://localhost:8080/"
        },
        "id": "H8SrLf8MW_dr",
        "outputId": "f209c3b4-e31a-4f30-df2e-6bfff181872a"
      },
      "source": [
        "test_reduced"
      ],
      "execution_count": 29,
      "outputs": [
        {
          "output_type": "execute_result",
          "data": {
            "text/plain": [
              "array([[  511.90010155,  -916.41990129,  2369.76383654],\n",
              "       [  189.76402529, -1102.25352192,  2050.94209241],\n",
              "       [  125.81165317, -1164.04842356,  1994.1033293 ],\n",
              "       [ 1047.51312504,  -943.62663394,  2106.34226402],\n",
              "       [  432.4015434 ,  -785.41435775,  1926.1115888 ],\n",
              "       [  349.9026071 ,  -514.34442426,  2276.96533375],\n",
              "       [  182.76787943, -1373.30576636,  1452.02359181],\n",
              "       [  667.03715705,  -906.81050919,  2447.9275078 ],\n",
              "       [  410.96787735, -1905.76505   ,  1355.84380705],\n",
              "       [ 1143.23653075,  -777.44664754,  2286.11097836],\n",
              "       [-1274.19033975,  2563.21170174,   370.57518424],\n",
              "       [  149.27393818,  2651.88209491,   260.63566312],\n",
              "       [ -813.93833089,  1155.60012878,   193.03766895],\n",
              "       [ -329.04214226,   516.92131869,   389.08264421],\n",
              "       [ -372.32848119,   733.9642629 ,   -14.7032382 ],\n",
              "       [ -629.6206018 ,   183.29205743,    36.27215953],\n",
              "       [-1240.04533672,  2119.3302094 ,   115.3252343 ],\n",
              "       [ -544.7059051 ,   902.57036423,  -194.94514345],\n",
              "       [   94.56951549,  2148.84533971,  -108.33260364],\n",
              "       [-1350.00327478,  1746.78855513,    14.25091816],\n",
              "       [ 3089.57827162,  -969.35879142, -1309.05363369],\n",
              "       [ 3155.65036043,   400.51064575, -1008.37672977],\n",
              "       [ 2987.49661309, -1059.96752762, -1296.09828419],\n",
              "       [ 3140.70634464,   228.7104412 , -1057.42246377],\n",
              "       [ 3023.29218443, -1045.61734929, -1152.15870531],\n",
              "       [ 2699.5268215 ,   669.46501819,  -844.69679098],\n",
              "       [ 2597.16714084,  -357.42534397, -1017.94850963],\n",
              "       [ 2375.40106329,   500.44255629, -1009.25270088],\n",
              "       [ 2644.07522454,  -806.06386494, -1047.72015499],\n",
              "       [ 2715.21426357,   493.36068282,  -634.40314345],\n",
              "       [-1350.73941827,  1944.34367795,  -187.27478298],\n",
              "       [-1128.62907742,  1752.00750861,  -228.06171228],\n",
              "       [-1352.12765421,  1233.9262838 ,  -364.23995915],\n",
              "       [-1208.80541091,  1131.78878341,  -493.28142507],\n",
              "       [-1040.55394444,  1291.7669711 ,  -176.57381884],\n",
              "       [ -534.38236228,  2802.93897815,     9.13735621],\n",
              "       [ -385.75427717,  2128.93840168,  -220.23018543],\n",
              "       [ -246.83729416,  2614.76265122,   -53.61520857],\n",
              "       [-1098.95429789,  2001.97652977,  -352.47358247],\n",
              "       [-1103.79344768,  2199.00463834,  -121.26451288],\n",
              "       [-1086.27335015, -2460.07204223,  -110.91140803],\n",
              "       [-2075.38216477, -1551.50340374,  -446.83890987],\n",
              "       [-1804.42322478, -2079.61714804, -1283.97453853],\n",
              "       [-1687.66097198, -2376.58123397, -1088.30828298],\n",
              "       [-2362.22187865, -1956.73167133, -1493.74570498],\n",
              "       [-2421.37363513, -1957.93418986, -1067.31180703],\n",
              "       [-2295.7979124 , -1952.69782885, -1456.61794657],\n",
              "       [-1161.86038134, -2166.64618523,   -61.67021647],\n",
              "       [ -974.26351305, -2424.61281593,  -707.09799687],\n",
              "       [-1859.54561257, -2562.08516896, -1045.84705764]])"
            ]
          },
          "metadata": {
            "tags": []
          },
          "execution_count": 29
        }
      ]
    },
    {
      "cell_type": "code",
      "metadata": {
        "id": "6lN3GtKJN_Le"
      },
      "source": [
        "test_recovered = pca.inverse_transform(test_reduced)"
      ],
      "execution_count": 30,
      "outputs": []
    },
    {
      "cell_type": "code",
      "metadata": {
        "colab": {
          "base_uri": "https://localhost:8080/"
        },
        "id": "vzYkt9lPXCxa",
        "outputId": "b43f2231-4404-49fd-fc53-f643ea211e03"
      },
      "source": [
        "test_recovered"
      ],
      "execution_count": 31,
      "outputs": [
        {
          "output_type": "execute_result",
          "data": {
            "text/plain": [
              "array([[30.20846008, 30.22691569, 30.34693885, ..., 85.31195995,\n",
              "        87.85484343, 86.19264247],\n",
              "       [30.14903433, 30.03417781, 30.1448812 , ..., 79.12946621,\n",
              "        81.52200658, 80.33659972],\n",
              "       [29.99293314, 29.85334045, 29.94971949, ..., 77.87516122,\n",
              "        80.24815503, 79.16910278],\n",
              "       ...,\n",
              "       [42.76067851, 41.95149267, 41.69848322, ..., 44.1819738 ,\n",
              "        45.35863198, 47.55329632],\n",
              "       [56.50609394, 55.63112855, 55.0015178 , ..., 37.89470058,\n",
              "        38.54351957, 41.99186528],\n",
              "       [47.66261567, 46.51099754, 46.17874137, ..., 27.80806101,\n",
              "        28.41450973, 32.06691056]])"
            ]
          },
          "metadata": {
            "tags": []
          },
          "execution_count": 31
        }
      ]
    },
    {
      "cell_type": "code",
      "metadata": {
        "colab": {
          "base_uri": "https://localhost:8080/"
        },
        "id": "533kR8Q5XJkO",
        "outputId": "29b01ea7-598b-49d0-e71c-74852e5a86f7"
      },
      "source": [
        "test_recovered.shape"
      ],
      "execution_count": 32,
      "outputs": [
        {
          "output_type": "execute_result",
          "data": {
            "text/plain": [
              "(50, 10304)"
            ]
          },
          "metadata": {
            "tags": []
          },
          "execution_count": 32
        }
      ]
    },
    {
      "cell_type": "code",
      "metadata": {
        "id": "hpG_dGa5OgRL"
      },
      "source": [
        "test_eigen = test_recovered.reshape((50,112,92),)"
      ],
      "execution_count": 33,
      "outputs": []
    },
    {
      "cell_type": "code",
      "metadata": {
        "colab": {
          "base_uri": "https://localhost:8080/"
        },
        "id": "IBG7Tx8r6beB",
        "outputId": "adddb291-5980-4c6f-ed52-5a27bcdc36c5"
      },
      "source": [
        "test_eigen"
      ],
      "execution_count": 34,
      "outputs": [
        {
          "output_type": "execute_result",
          "data": {
            "text/plain": [
              "array([[[ 30.20846008,  30.22691569,  30.34693885, ...,  29.64992813,\n",
              "          27.77098353,  30.14355409],\n",
              "        [ 29.57268093,  30.32914703,  31.23850719, ...,  30.42473294,\n",
              "          28.50238961,  30.43637455],\n",
              "        [ 31.5574466 ,  30.92594885,  30.66372898, ...,  28.82235834,\n",
              "          31.101789  ,  28.95557594],\n",
              "        ...,\n",
              "        [ 33.97004728,  36.38763933,  39.84760976, ...,  40.06651042,\n",
              "          38.56644297,  36.93286464],\n",
              "        [ 28.43735309,  41.03375756,  38.82126814, ...,  58.50269694,\n",
              "          56.82131863,  53.74443804],\n",
              "        [ 33.29801775,  36.55401304,  33.6488287 , ...,  85.31195995,\n",
              "          87.85484343,  86.19264247]],\n",
              "\n",
              "       [[ 30.14903433,  30.03417781,  30.1448812 , ...,  28.76279164,\n",
              "          26.98545068,  29.06964584],\n",
              "        [ 29.4769377 ,  30.16951136,  31.15142816, ...,  29.37889957,\n",
              "          27.75661193,  29.36460629],\n",
              "        [ 31.37304779,  30.59698634,  30.800218  , ...,  27.99660413,\n",
              "          30.02608605,  28.04506773],\n",
              "        ...,\n",
              "        [ 35.59208386,  41.4094536 ,  45.97214525, ...,  38.04974453,\n",
              "          36.678388  ,  35.31056722],\n",
              "        [ 34.98129384,  47.22016951,  46.92648197, ...,  54.49857956,\n",
              "          53.09694261,  50.39114768],\n",
              "        [ 40.57469199,  46.37574388,  44.58428934, ...,  79.12946621,\n",
              "          81.52200658,  80.33659972]],\n",
              "\n",
              "       [[ 29.99293314,  29.85334045,  29.94971949, ...,  28.35491419,\n",
              "          26.59968573,  28.61852485],\n",
              "        [ 29.30172328,  29.99210838,  30.98579962, ...,  28.93784117,\n",
              "          27.37291481,  28.91703426],\n",
              "        [ 31.19288101,  30.38142937,  30.68718441, ...,  27.59661045,\n",
              "          29.5807474 ,  27.62301275],\n",
              "        ...,\n",
              "        [ 35.88997691,  42.4927077 ,  47.34894044, ...,  37.4691766 ,\n",
              "          36.11610914,  34.79131243],\n",
              "        [ 36.3561255 ,  48.60824549,  48.74464021, ...,  53.58013564,\n",
              "          52.24194435,  49.58890507],\n",
              "        [ 42.15601837,  48.55933408,  46.99802803, ...,  77.87516122,\n",
              "          80.24815503,  79.16910278]],\n",
              "\n",
              "       ...,\n",
              "\n",
              "       [[ 42.76067851,  41.95149267,  41.69848322, ...,  35.64071525,\n",
              "          34.61429756,  34.88699681],\n",
              "        [ 41.89561686,  42.30628566,  43.38032623, ...,  35.26271041,\n",
              "          35.48677472,  35.18051563],\n",
              "        [ 43.16522387,  41.6160768 ,  44.26870887, ...,  35.2695558 ,\n",
              "          35.65586824,  34.98294016],\n",
              "        ...,\n",
              "        [ 53.26550586,  76.94000503,  87.66129459, ...,  30.51422545,\n",
              "          29.75444761,  30.15610613],\n",
              "        [ 80.45659339,  89.1392305 ,  99.8992171 , ...,  34.20924362,\n",
              "          34.42337244,  34.24608075],\n",
              "        [ 89.61635021, 108.61840128, 113.47466166, ...,  44.1819738 ,\n",
              "          45.35863198,  47.55329632]],\n",
              "\n",
              "       [[ 56.50609394,  55.63112855,  55.0015178 , ...,  47.2061573 ,\n",
              "          46.47909562,  46.24530249],\n",
              "        [ 55.59133319,  56.04755223,  56.84181279, ...,  46.55867068,\n",
              "          47.24396415,  46.53317782],\n",
              "        [ 56.66308611,  55.0014971 ,  57.94734465, ...,  46.93965582,\n",
              "          46.83247638,  46.71311598],\n",
              "        ...,\n",
              "        [ 64.1249844 ,  89.98566658, 101.90269149, ...,  32.29741347,\n",
              "          31.52451811,  32.46372166],\n",
              "        [ 96.47457837, 103.30993623, 116.33854355, ...,  32.45867181,\n",
              "          33.00984551,  33.62978998],\n",
              "        [105.8806042 , 126.3692873 , 132.75179343, ...,  37.89470058,\n",
              "          38.54351957,  41.99186528]],\n",
              "\n",
              "       [[ 47.66261567,  46.51099754,  46.17874137, ...,  38.34106793,\n",
              "          37.63814955,  37.11358991],\n",
              "        [ 46.75509928,  46.97840893,  48.14766681, ...,  37.51353907,\n",
              "          38.59875209,  37.39499576],\n",
              "        [ 47.69187582,  45.80056069,  49.58934928, ...,  38.16825504,\n",
              "          37.79079662,  37.72720012],\n",
              "        ...,\n",
              "        [ 60.61729855,  92.42509324, 105.74696705, ...,  27.22415306,\n",
              "          26.79834255,  28.04164051],\n",
              "        [100.50657227, 107.3529264 , 123.09412941, ...,  24.85787709,\n",
              "          25.79654302,  26.84515442],\n",
              "        [111.16529841, 136.13809691, 144.04742694, ...,  27.80806101,\n",
              "          28.41450973,  32.06691056]]])"
            ]
          },
          "metadata": {
            "tags": []
          },
          "execution_count": 34
        }
      ]
    },
    {
      "cell_type": "code",
      "metadata": {
        "colab": {
          "base_uri": "https://localhost:8080/"
        },
        "id": "dqiEK4AtXMf7",
        "outputId": "08e8c9a8-16f8-4f06-c91c-fd7175d8b5fd"
      },
      "source": [
        "test_eigen.shape"
      ],
      "execution_count": 35,
      "outputs": [
        {
          "output_type": "execute_result",
          "data": {
            "text/plain": [
              "(50, 112, 92)"
            ]
          },
          "metadata": {
            "tags": []
          },
          "execution_count": 35
        }
      ]
    },
    {
      "cell_type": "code",
      "metadata": {
        "colab": {
          "base_uri": "https://localhost:8080/",
          "height": 287
        },
        "id": "GfWF6t-m6mGs",
        "outputId": "6c8f27fd-6a2a-40ce-c273-d89ac71a6421"
      },
      "source": [
        "plt.imshow(ori_test[20])"
      ],
      "execution_count": 36,
      "outputs": [
        {
          "output_type": "execute_result",
          "data": {
            "text/plain": [
              "<matplotlib.image.AxesImage at 0x7f25b7d03d50>"
            ]
          },
          "metadata": {
            "tags": []
          },
          "execution_count": 36
        },
        {
          "output_type": "display_data",
          "data": {
            "image/png": "[encoded data removed]",
            "text/plain": [
              "<Figure size 432x288 with 1 Axes>"
            ]
          },
          "metadata": {
            "tags": [],
            "needs_background": "light"
          }
        }
      ]
    },
    {
      "cell_type": "code",
      "metadata": {
        "colab": {
          "base_uri": "https://localhost:8080/",
          "height": 287
        },
        "id": "kI7f4z39N_OL",
        "outputId": "f08c241b-dd5b-4375-bb6c-48aa6256f8ce"
      },
      "source": [
        "plt.imshow(test_eigen[20])"
      ],
      "execution_count": 37,
      "outputs": [
        {
          "output_type": "execute_result",
          "data": {
            "text/plain": [
              "<matplotlib.image.AxesImage at 0x7f25ac1b8310>"
            ]
          },
          "metadata": {
            "tags": []
          },
          "execution_count": 37
        },
        {
          "output_type": "display_data",
          "data": {
            "image/png": "[encoded data removed]",
            "text/plain": [
              "<Figure size 432x288 with 1 Axes>"
            ]
          },
          "metadata": {
            "tags": [],
            "needs_background": "light"
          }
        }
      ]
    },
    {
      "cell_type": "code",
      "metadata": {
        "id": "wLXfVLHsN_Qv"
      },
      "source": [
        ""
      ],
      "execution_count": 37,
      "outputs": []
    },
    {
      "cell_type": "code",
      "metadata": {
        "id": "7FCi6Ud8HXRe"
      },
      "source": [
        "class PrincipalComponentAnalysis():\n",
        "\n",
        "    \n",
        "    def __init__(self, n_components):\n",
        "        #n_components : 데이터를 축소시킬 목표 차원\n",
        "        self.n_components = n_components\n",
        "        \n",
        "        self.eigen_mat = None\n",
        "        \n",
        "        self.eigen_val = None\n",
        "\n",
        "        self.reduced_eigen_mat = None\n",
        "        \n",
        "    def fit(self, x):\n",
        "        # data를 zero centered\n",
        "        x = x - np.mean(x, axis=0, keepdims=True)\n",
        "        \n",
        "        n, d = x.shape\n",
        "        \n",
        "        cov = np.matmul(x.T, x)/n\n",
        "        \n",
        "        eigvals, eigvecs = np.linalg.eig(cov)\n",
        "        \n",
        "        eig_pairs = [(eigvals[i], eigvecs[:, i]) for i in range(d)]\n",
        "        \n",
        "        sorted_eig = sorted(eig_pairs, key=lambda tup: tup[0], reverse=True)\n",
        "        \n",
        "        self.eigen_mat = np.stack(list(map(lambda tup: tup[1], sorted_eig)), axis=1)\n",
        "        \n",
        "        self.eigen_val = np.array(list(map(lambda tup: tup[0], sorted_eig)))\n",
        "        \n",
        "    def transform(self, x):\n",
        "        \n",
        "        x = x - np.mean(x, axis=0, keepdims=True)\n",
        "        \n",
        "        if self.eigen_mat is None:\n",
        "            print(\"You should fit model first!\")\n",
        "            return\n",
        "        \n",
        "        \n",
        "        self.reduced_eigen_mat = self.eigen_mat[:, :self.n_components]\n",
        "        \n",
        "        \n",
        "        results = np.matmul(x, self.reduced_eigen_mat)\n",
        "        \n",
        "        return results\n",
        "    def reconstruct(self, data, x_transformed) :\n",
        "        y = np.matmul(x_transformed, self.reduced_eigen_mat.T)+np.mean(data, axis=0, keepdims=True)\n",
        "        y = y.reshape(y.shape[0],112,92)\n",
        "\n",
        "        return y"
      ],
      "execution_count": 38,
      "outputs": []
    },
    {
      "cell_type": "code",
      "metadata": {
        "id": "zpIxEzrIHXUW"
      },
      "source": [
        "pca = PrincipalComponentAnalysis(n_components=10)"
      ],
      "execution_count": 39,
      "outputs": []
    },
    {
      "cell_type": "code",
      "metadata": {
        "id": "QZUPZTSplsAT"
      },
      "source": [
        "pca.fit(train)"
      ],
      "execution_count": 40,
      "outputs": []
    },
    {
      "cell_type": "code",
      "metadata": {
        "colab": {
          "base_uri": "https://localhost:8080/"
        },
        "id": "4DXxCkKKlsJT",
        "outputId": "364eba98-0ff3-4110-8b04-14f2ebdda60c"
      },
      "source": [
        "test_transformed = pca.transform(test)\n",
        "test_transformed"
      ],
      "execution_count": 41,
      "outputs": [
        {
          "output_type": "execute_result",
          "data": {
            "text/plain": [
              "array([[ 7.93004743e+02+0.j,  1.00548086e+03+0.j, -5.98919834e+02+0.j,\n",
              "         8.59078602e+01+0.j,  7.04505858e+01+0.j, -2.93038797e+02+0.j,\n",
              "         1.93514314e+02+0.j, -1.43188699e+02+0.j, -2.71163048e+02+0.j,\n",
              "        -4.86429013e+02+0.j],\n",
              "       [ 5.37681019e+02+0.j,  8.32297252e+02+0.j, -9.89757173e+02+0.j,\n",
              "         1.48473667e+02+0.j, -2.17203389e+02+0.j, -2.13402425e+02+0.j,\n",
              "         1.28329305e+02+0.j, -5.30717330e+02+0.j, -1.72379542e+02+0.j,\n",
              "        -3.24279484e+02+0.j],\n",
              "       [ 4.95502833e+02+0.j,  1.00981515e+03+0.j, -9.23550871e+02+0.j,\n",
              "         9.93085645e+01+0.j, -1.86339966e+02+0.j, -2.67081461e+02+0.j,\n",
              "         1.81558501e+02+0.j, -6.11781110e+02+0.j, -3.23376136e+02+0.j,\n",
              "        -2.79125007e+02+0.j],\n",
              "       [ 1.06951856e+03+0.j,  9.89467180e+02+0.j, -4.07068903e+02+0.j,\n",
              "        -3.43074953e+02+0.j, -3.18588920e+02+0.j,  1.57419765e+01+0.j,\n",
              "         1.32676392e+02+0.j, -1.26730841e+02+0.j, -5.47495302e+02+0.j,\n",
              "        -5.21443541e+02+0.j],\n",
              "       [ 6.69410218e+02+0.j,  7.56030968e+02+0.j, -9.00367459e+02+0.j,\n",
              "        -3.93681528e+02+0.j, -2.98151894e+02+0.j, -8.67208390e+01+0.j,\n",
              "         2.69065762e+02+0.j, -1.58924224e+02+0.j, -3.64890245e+02+0.j,\n",
              "        -4.96192835e+02+0.j],\n",
              "       [ 6.53192354e+02+0.j,  9.83173513e+02+0.j, -6.74939190e+02+0.j,\n",
              "        -3.02034936e+02+0.j,  3.09947471e+02+0.j, -1.59848981e+02+0.j,\n",
              "         4.14171984e+02+0.j,  2.33179380e+02+0.j, -1.25367982e+02+0.j,\n",
              "        -4.24426178e+02+0.j],\n",
              "       [ 2.11881641e+02+0.j,  8.30159526e+02+0.j, -1.13675617e+03+0.j,\n",
              "         1.34176703e+02+0.j, -5.53854439e+02+0.j,  3.20322314e+02+0.j,\n",
              "         1.14080984e+02+0.j, -7.59677098e+02+0.j, -5.17966080e+01+0.j,\n",
              "        -1.62024140e+02+0.j],\n",
              "       [ 8.63178456e+02+0.j,  1.10620411e+03+0.j, -4.79431186e+02+0.j,\n",
              "        -8.39819177e+01+0.j,  4.69532733e+01+0.j, -1.29720348e+02+0.j,\n",
              "         9.46662756e+01+0.j, -1.74048316e+02+0.j, -3.69724521e+02+0.j,\n",
              "        -5.21295026e+02+0.j],\n",
              "       [ 5.83849491e+02+0.j,  1.51995525e+03+0.j, -5.96618299e+02+0.j,\n",
              "         2.20957423e+02+0.j, -8.44344168e+02+0.j,  1.82461588e+02+0.j,\n",
              "         7.69598779e+01+0.j, -1.13620882e+03+0.j,  1.22528060e+02+0.j,\n",
              "        -2.31156153e+02+0.j],\n",
              "       [ 1.12549590e+03+0.j,  1.22556828e+03+0.j, -7.91615765e+01+0.j,\n",
              "        -3.27960703e+02+0.j,  5.20038814e+01+0.j, -7.81617445e+01+0.j,\n",
              "         5.85234326e+01+0.j, -5.73149135e+01+0.j, -5.96477617e+02+0.j,\n",
              "        -6.00240928e+02+0.j],\n",
              "       [-1.34685342e+03+0.j, -5.97206893e+02+0.j, -1.34541658e+02+0.j,\n",
              "        -6.36352866e+02+0.j,  1.86594461e+03+0.j, -7.56603048e+01+0.j,\n",
              "         4.68279338e+02+0.j,  7.08365445e+02+0.j, -6.88705314e+02+0.j,\n",
              "        -3.51788640e+02+0.j],\n",
              "       [ 4.82379680e+02+0.j, -1.62735603e+03+0.j, -2.49903301e+02+0.j,\n",
              "        -1.03608576e+03+0.j,  1.01171156e+03+0.j,  3.68244064e+02+0.j,\n",
              "         1.37564953e+02+0.j,  3.16105646e+00+0.j, -5.58237937e+02+0.j,\n",
              "        -8.88339104e+00+0.j],\n",
              "       [-6.35987121e+02+0.j, -7.60927006e+02+0.j, -4.94512162e+02+0.j,\n",
              "         2.53066694e+02+0.j,  1.15688246e+03+0.j,  5.06772744e+02+0.j,\n",
              "        -6.15895251e+01+0.j,  6.52972148e+02+0.j, -5.15845272e+02+0.j,\n",
              "        -3.94775531e+02+0.j],\n",
              "       [ 5.96791183e+01+0.j, -1.93847540e+01+0.j, -1.09068050e+03+0.j,\n",
              "        -3.94363614e+02+0.j,  6.12982815e+02+0.j,  1.62673956e+02+0.j,\n",
              "        -4.89967813e+02+0.j,  7.74953263e+02+0.j, -2.43652303e+02+0.j,\n",
              "        -3.40104722e+02+0.j],\n",
              "       [-6.88819181e+02+0.j, -3.90886367e+02+0.j, -1.04070410e+03+0.j,\n",
              "        -5.15217117e+02+0.j,  1.70991775e+02+0.j,  2.39008028e+02+0.j,\n",
              "        -1.58450164e+02+0.j,  8.54041613e+02+0.j, -2.71378822e+02+0.j,\n",
              "        -3.29042860e+02+0.j],\n",
              "       [ 3.46943498e+02+0.j,  1.63253129e+00+0.j, -7.87957167e+02+0.j,\n",
              "         1.76053462e+02+0.j,  9.98308108e+02+0.j,  3.24905496e+02+0.j,\n",
              "        -7.61280307e+01+0.j,  8.71121907e+02+0.j,  8.01607688e+01+0.j,\n",
              "         1.09499631e+02+0.j],\n",
              "       [-1.33085292e+03+0.j, -6.01090490e+02+0.j, -2.52488491e+02+0.j,\n",
              "        -3.33825558e+02+0.j,  1.25284023e+03+0.j,  4.21545674e+01+0.j,\n",
              "         2.97758881e+02+0.j,  6.31012469e+02+0.j, -6.85644553e+02+0.j,\n",
              "        -6.50834046e+02+0.j],\n",
              "       [-1.63221006e+03+0.j, -6.95006938e+02+0.j, -6.44260271e+02+0.j,\n",
              "        -3.23400211e+02+0.j, -2.06499374e+02+0.j, -2.78761975e+02+0.j,\n",
              "         1.59832006e+02+0.j,  5.18163908e+02+0.j, -1.55652907e+02+0.j,\n",
              "        -6.97645710e+02+0.j],\n",
              "       [ 3.91692898e+02+0.j, -1.33403767e+03+0.j, -9.78966134e+01+0.j,\n",
              "        -7.20125106e+02+0.j,  7.89016763e+02+0.j,  4.66425577e+01+0.j,\n",
              "        -1.23812820e+00+0.j,  2.29467191e+02+0.j, -1.96875823e+02+0.j,\n",
              "        -3.02397647e+02+0.j],\n",
              "       [-1.23941657e+03+0.j, -3.88199823e+02+0.j, -9.15210264e+01+0.j,\n",
              "         2.31001642e+01+0.j,  1.40861073e+03+0.j,  3.96967522e+01+0.j,\n",
              "        -6.01889330e+01+0.j,  3.59337134e+02+0.j, -7.45595710e+02+0.j,\n",
              "        -4.71081321e+02+0.j],\n",
              "       [ 8.19214000e+02+0.j, -1.33359329e+01+0.j,  1.91644139e+03+0.j,\n",
              "        -4.46760117e+02+0.j, -2.22919913e+03+0.j,  5.22933673e+02+0.j,\n",
              "         6.66279494e+00+0.j,  1.04816115e+02+0.j, -7.53527583e+01+0.j,\n",
              "        -3.31553442e+02+0.j],\n",
              "       [ 1.39279825e+03+0.j, -1.47004240e+03+0.j,  1.24885388e+03+0.j,\n",
              "        -1.13187749e+03+0.j, -9.83613202e+02+0.j,  3.15784302e+02+0.j,\n",
              "         2.00369839e+02+0.j,  6.17653793e+02+0.j,  4.72925185e+02+0.j,\n",
              "        -1.52351625e+02+0.j],\n",
              "       [ 7.16309701e+02+0.j,  1.93737904e+02+0.j,  1.98071598e+03+0.j,\n",
              "        -4.20891007e+02+0.j, -2.17914765e+03+0.j,  4.77282409e+02+0.j,\n",
              "        -1.02496894e+02+0.j,  6.82549734e+01+0.j, -1.67318680e+02+0.j,\n",
              "        -9.03816636e+01+0.j],\n",
              "       [ 1.40242943e+03+0.j, -1.26459805e+03+0.j,  1.33709927e+03+0.j,\n",
              "        -9.58994747e+02+0.j, -1.03997198e+03+0.j,  3.99058414e+02+0.j,\n",
              "         2.73669288e+02+0.j,  5.89918529e+02+0.j,  4.18772778e+02+0.j,\n",
              "        -3.22917561e+02+0.j],\n",
              "       [ 9.20371513e+02+0.j,  2.10436090e+02+0.j,  1.89719964e+03+0.j,\n",
              "        -4.18694400e+02+0.j, -2.00455421e+03+0.j,  5.33759774e+02+0.j,\n",
              "        -2.63291166e+02+0.j,  6.95883751e+01+0.j, -1.41552979e+02+0.j,\n",
              "        -1.07950149e+02+0.j],\n",
              "       [ 1.09692321e+03+0.j, -1.49234091e+03+0.j,  1.32492956e+03+0.j,\n",
              "        -9.51258730e+02+0.j, -5.96945300e+02+0.j,  2.77232531e+02+0.j,\n",
              "         4.86957020e+02+0.j,  2.28797455e+02+0.j,  2.95335601e+02+0.j,\n",
              "        -5.93270086e+02+0.j],\n",
              "       [ 8.02685757e+02+0.j, -5.33169674e+02+0.j,  1.70909886e+03+0.j,\n",
              "        -4.18090241e+02+0.j, -1.49280886e+03+0.j,  7.15335305e+02+0.j,\n",
              "         1.52758780e+02+0.j, -7.53315178e+02+0.j, -4.20488837e+02+0.j,\n",
              "        -3.20881242e+01+0.j],\n",
              "       [ 1.62387836e+03+0.j, -1.37790777e+03+0.j,  1.07178724e+03+0.j,\n",
              "        -9.81242749e+02+0.j, -8.48526639e+02+0.j,  2.38323769e+02+0.j,\n",
              "        -6.53737821e+02+0.j,  8.30056777e+02+0.j,  1.24535488e+02+0.j,\n",
              "         1.65865619e+02+0.j],\n",
              "       [ 9.41733955e+02+0.j, -1.78525801e+02+0.j,  1.74818414e+03+0.j,\n",
              "        -1.80162448e+02+0.j, -1.79016264e+03+0.j,  8.93390566e+02+0.j,\n",
              "        -6.03231369e+01+0.j, -6.22467413e+02+0.j, -3.43456597e+02+0.j,\n",
              "        -2.72371566e+02+0.j],\n",
              "       [ 1.12801983e+03+0.j, -1.35221094e+03+0.j,  1.15273929e+03+0.j,\n",
              "        -9.96549387e+02+0.j, -7.01756720e+02+0.j,  2.11216692e+02+0.j,\n",
              "         7.96441396e+02+0.j, -4.40474163e+01+0.j,  4.82285582e+02+0.j,\n",
              "        -3.76175924e+02+0.j],\n",
              "       [-7.58898092e+02+0.j, -8.35722817e+02+0.j, -1.86607101e+01+0.j,\n",
              "        -1.80741344e+02+0.j,  9.47162880e+02+0.j, -1.03349953e+03+0.j,\n",
              "         7.91022973e+01+0.j,  2.05211086e+01+0.j, -9.34924141e+01+0.j,\n",
              "         4.78483408e+02+0.j],\n",
              "       [-8.42805122e+02+0.j, -1.07326146e+03+0.j, -1.07906835e+02+0.j,\n",
              "        -2.55997050e+02+0.j,  4.39351542e+02+0.j, -8.92176240e+02+0.j,\n",
              "         1.61340338e+02+0.j, -2.43491153e+02+0.j, -2.21493143e+02+0.j,\n",
              "         3.33586356e+02+0.j],\n",
              "       [-9.96196965e+02+0.j,  1.28119110e+02+0.j,  6.43206188e+01+0.j,\n",
              "        -8.04695433e+01+0.j,  8.83228909e+02+0.j, -4.90902911e+02+0.j,\n",
              "         1.57146878e+02+0.j, -1.34136916e+02+0.j, -1.31131719e+02+0.j,\n",
              "         5.77195993e+02+0.j],\n",
              "       [-6.59913275e+02+0.j, -5.25948285e+02+0.j, -2.65474778e+01+0.j,\n",
              "         4.87430723e+01+0.j,  4.08396666e+02+0.j, -8.03724556e+02+0.j,\n",
              "        -9.60667349e+01+0.j, -1.75513089e+02+0.j, -1.35006275e+02+0.j,\n",
              "         5.26265203e+02+0.j],\n",
              "       [-1.10639575e+03+0.j, -9.35762769e+02+0.j,  9.99293402e+01+0.j,\n",
              "        -2.61263140e+01+0.j,  3.00431149e+02+0.j, -1.13950347e+03+0.j,\n",
              "         2.05342946e+02+0.j, -2.70429302e+02+0.j, -7.95102073e+01+0.j,\n",
              "         5.03534141e+01+0.j],\n",
              "       [-3.50615793e+02+0.j, -1.05227265e+03+0.j,  3.69686509e+02+0.j,\n",
              "        -9.85312787e+02+0.j,  1.51136196e+03+0.j, -3.99537569e+02+0.j,\n",
              "         4.85887978e+02+0.j,  1.71882222e+02+0.j, -3.75962177e+02+0.j,\n",
              "         3.05612336e+02+0.j],\n",
              "       [ 4.85014213e+01+0.j, -7.73015380e+02+0.j,  3.84052589e+02+0.j,\n",
              "        -6.49010065e+02+0.j,  1.43779930e+03+0.j, -2.10575061e+02+0.j,\n",
              "        -8.36077563e+01+0.j,  2.50944419e+02+0.j, -3.94113916e+02+0.j,\n",
              "         4.08953682e+02+0.j],\n",
              "       [-5.38274758e+02+0.j, -9.95035746e+02+0.j,  6.09591829e+02+0.j,\n",
              "        -9.92227178e+02+0.j,  1.20270846e+03+0.j, -2.78080828e+02+0.j,\n",
              "         5.94025083e+02+0.j, -2.56049351e+01+0.j, -5.29530041e+02+0.j,\n",
              "        -6.63545699e+01+0.j],\n",
              "       [-7.01467157e+02+0.j, -1.02020165e+03+0.j, -2.10647023e+02+0.j,\n",
              "        -4.57325991e+02+0.j,  5.19547627e+02+0.j, -6.26590106e+02+0.j,\n",
              "         1.40229688e+02+0.j, -1.53851134e+02+0.j, -3.90276968e+02+0.j,\n",
              "         5.41158450e+02+0.j],\n",
              "       [-8.99619910e+02+0.j, -8.21901557e+02+0.j,  4.35505230e+01+0.j,\n",
              "        -4.07124056e+02+0.j,  9.45622113e+02+0.j, -7.49210668e+02+0.j,\n",
              "         4.06741341e+02+0.j, -2.59068219e+02+0.j, -2.37990391e+02+0.j,\n",
              "         5.00621750e+02+0.j],\n",
              "       [ 7.28130361e+02+0.j,  1.77505884e+03+0.j, -5.06273563e+02+0.j,\n",
              "         1.05174471e+03+0.j, -2.11248321e+02+0.j, -7.14467227e+02+0.j,\n",
              "        -3.14431906e+02+0.j, -5.58525358e+02+0.j,  1.10968007e+03+0.j,\n",
              "         3.63459698e+02+0.j],\n",
              "       [-5.54858430e+02+0.j,  1.01421669e+03+0.j, -6.23561435e+02+0.j,\n",
              "         1.06577607e+03+0.j,  8.42887727e+02+0.j,  7.58511531e+02+0.j,\n",
              "        -3.14597731e+01+0.j, -1.36453753e+03+0.j,  8.59064832e+02+0.j,\n",
              "         1.28648422e+03+0.j],\n",
              "       [-1.29723374e+03+0.j,  6.82512110e+02+0.j, -3.59533552e+02+0.j,\n",
              "         2.01790492e+03+0.j, -8.42744907e+02+0.j,  2.14736411e+02+0.j,\n",
              "        -6.96091650e+02+0.j,  5.96255241e+02+0.j,  6.02952136e+02+0.j,\n",
              "         2.60064994e+02+0.j],\n",
              "       [-3.62854766e+02+0.j,  1.12585081e+03+0.j, -6.35547808e+02+0.j,\n",
              "         1.72546425e+03+0.j, -5.42946564e+02+0.j,  1.74306428e+02+0.j,\n",
              "        -7.75243026e+02+0.j,  4.75519194e+02+0.j,  7.51820363e+02+0.j,\n",
              "         3.85428836e+02+0.j],\n",
              "       [-1.50551709e+03+0.j,  8.21019082e+02+0.j, -2.01836959e+02+0.j,\n",
              "         1.79970323e+03+0.j, -1.67824304e+01+0.j,  4.39845299e+02+0.j,\n",
              "        -7.22371191e+02+0.j, -4.53696271e+02+0.j,  8.36599000e+02+0.j,\n",
              "         6.79685886e+02+0.j],\n",
              "       [-9.18558162e+02+0.j,  8.75039893e+02+0.j, -5.66155289e+02+0.j,\n",
              "         1.61315341e+03+0.j,  5.12618832e+02+0.j,  5.72558579e+02+0.j,\n",
              "        -4.86359616e+02+0.j, -9.58454100e+02+0.j,  8.97707975e+02+0.j,\n",
              "         9.91441724e+02+0.j],\n",
              "       [-1.10035955e+03+0.j,  8.46524082e+02+0.j, -5.15558553e+02+0.j,\n",
              "         1.71202058e+03+0.j, -1.68176529e+02+0.j,  2.62560933e+02+0.j,\n",
              "        -6.47570302e+02+0.j,  4.82995780e+01+0.j,  7.65643623e+02+0.j,\n",
              "         7.05072302e+02+0.j],\n",
              "       [ 5.92434345e+02+0.j,  1.64034664e+03+0.j, -4.60502124e+02+0.j,\n",
              "         9.26266757e+02+0.j, -3.11452739e+01+0.j, -8.43735440e+02+0.j,\n",
              "         3.24880678e+01+0.j, -7.09156887e+02+0.j,  1.24522227e+03+0.j,\n",
              "         4.75653203e+02+0.j],\n",
              "       [-9.01610356e+02+0.j,  1.18093655e+03+0.j, -5.32994084e+02+0.j,\n",
              "         1.68257486e+03+0.j, -1.47490416e+03+0.j,  7.10822680e+01+0.j,\n",
              "        -5.11353022e+02+0.j,  1.32309181e+03+0.j,  4.21339523e+02+0.j,\n",
              "         1.47522212e+02+0.j],\n",
              "       [-1.27522352e+02+0.j,  1.37576735e+03+0.j, -5.21419293e+02+0.j,\n",
              "         1.56456351e+03+0.j,  8.18552218e+01+0.j,  4.37857555e+02+0.j,\n",
              "        -6.14179149e+02+0.j, -8.06488851e+02+0.j,  1.13436349e+03+0.j,\n",
              "         6.46171966e+02+0.j]])"
            ]
          },
          "metadata": {
            "tags": []
          },
          "execution_count": 41
        }
      ]
    },
    {
      "cell_type": "code",
      "metadata": {
        "colab": {
          "base_uri": "https://localhost:8080/"
        },
        "id": "4i1Qvpjc3A0i",
        "outputId": "01826625-bb6b-4436-8a62-cc5412298187"
      },
      "source": [
        "test_transformed.shape"
      ],
      "execution_count": 42,
      "outputs": [
        {
          "output_type": "execute_result",
          "data": {
            "text/plain": [
              "(50, 10)"
            ]
          },
          "metadata": {
            "tags": []
          },
          "execution_count": 42
        }
      ]
    },
    {
      "cell_type": "code",
      "metadata": {
        "colab": {
          "base_uri": "https://localhost:8080/"
        },
        "id": "5NqDtMUrlsLq",
        "outputId": "25104070-3b47-43b5-b8d2-ba1b6fc3d907"
      },
      "source": [
        "pca.reduced_eigen_mat"
      ],
      "execution_count": 50,
      "outputs": [
        {
          "output_type": "execute_result",
          "data": {
            "text/plain": [
              "array([[-0.00297366+0.j, -0.01529881+0.j,  0.01892478+0.j, ...,\n",
              "        -0.00371522+0.j,  0.00196516+0.j,  0.00831637+0.j],\n",
              "       [-0.00296561+0.j, -0.01523309+0.j,  0.01892572+0.j, ...,\n",
              "        -0.00376009+0.j,  0.00183881+0.j,  0.00790805+0.j],\n",
              "       [-0.00295577+0.j, -0.01521713+0.j,  0.01886771+0.j, ...,\n",
              "        -0.00386582+0.j,  0.00185968+0.j,  0.00832372+0.j],\n",
              "       ...,\n",
              "       [-0.00777331+0.j,  0.01194035+0.j,  0.00953791+0.j, ...,\n",
              "         0.01889214+0.j,  0.02446184+0.j,  0.00759997+0.j],\n",
              "       [-0.00715107+0.j,  0.0109934 +0.j,  0.01063013+0.j, ...,\n",
              "         0.01711701+0.j,  0.0247271 +0.j,  0.00866425+0.j],\n",
              "       [-0.00821532+0.j,  0.01008399+0.j,  0.01121944+0.j, ...,\n",
              "         0.01612404+0.j,  0.02253338+0.j,  0.00827635+0.j]])"
            ]
          },
          "metadata": {
            "tags": []
          },
          "execution_count": 50
        }
      ]
    },
    {
      "cell_type": "code",
      "metadata": {
        "colab": {
          "base_uri": "https://localhost:8080/"
        },
        "id": "lb4ZBEHjlsOe",
        "outputId": "de21a45d-e2f5-4b69-e135-5ac3333b38f8"
      },
      "source": [
        "pca.reduced_eigen_mat.shape"
      ],
      "execution_count": 51,
      "outputs": [
        {
          "output_type": "execute_result",
          "data": {
            "text/plain": [
              "(10304, 10)"
            ]
          },
          "metadata": {
            "tags": []
          },
          "execution_count": 51
        }
      ]
    },
    {
      "cell_type": "code",
      "metadata": {
        "id": "9z3NyrZ4lsRD"
      },
      "source": [
        ""
      ],
      "execution_count": 57,
      "outputs": []
    },
    {
      "cell_type": "code",
      "metadata": {
        "colab": {
          "base_uri": "https://localhost:8080/"
        },
        "id": "0stKg2aHmaDX",
        "outputId": "9102f25f-a81f-4bcd-d17f-e77563cf110c"
      },
      "source": [
        "print(test_reconstruct, test_reconstruct.shape)"
      ],
      "execution_count": 58,
      "outputs": [
        {
          "output_type": "stream",
          "text": [
            "[[[ 29.66625178+0.j  29.13579361+0.j  29.43906173+0.j ...\n",
            "    30.01924972+0.j  28.6203832 +0.j  30.24811292+0.j]\n",
            "  [ 29.91476627+0.j  29.79787168+0.j  30.40908104+0.j ...\n",
            "    30.43370512+0.j  29.98498111+0.j  30.57567056+0.j]\n",
            "  [ 30.74108559+0.j  29.62331388+0.j  30.45608686+0.j ...\n",
            "    30.09682589+0.j  30.94203526+0.j  30.69478586+0.j]\n",
            "  ...\n",
            "  [ 29.16965688+0.j  34.37601407+0.j  36.83649162+0.j ...\n",
            "    31.01460811+0.j  30.01196373+0.j  31.96289642+0.j]\n",
            "  [ 36.63301263+0.j  39.00468883+0.j  40.4063687 +0.j ...\n",
            "    34.90819227+0.j  33.74616683+0.j  34.31529646+0.j]\n",
            "  [ 39.12582938+0.j  44.69848106+0.j  43.60766019+0.j ...\n",
            "    43.43712251+0.j  42.68082111+0.j  42.44834814+0.j]]\n",
            "\n",
            " [[ 31.35900572+0.j  30.80392734+0.j  31.27189098+0.j ...\n",
            "    28.73451283+0.j  27.45142823+0.j  29.019453  +0.j]\n",
            "  [ 31.6151963 +0.j  31.7220317 +0.j  32.00409052+0.j ...\n",
            "    28.97586869+0.j  28.56785569+0.j  29.24783021+0.j]\n",
            "  [ 32.29468189+0.j  31.49425642+0.j  32.28620518+0.j ...\n",
            "    28.99191706+0.j  29.60817318+0.j  29.05670431+0.j]\n",
            "  ...\n",
            "  [ 37.17099801+0.j  42.93132275+0.j  44.52816965+0.j ...\n",
            "    24.76435312+0.j  23.17451061+0.j  24.85485314+0.j]\n",
            "  [ 45.13968975+0.j  47.19180304+0.j  47.35654513+0.j ...\n",
            "    28.16309289+0.j  27.3611334 +0.j  27.89208625+0.j]\n",
            "  [ 46.53280684+0.j  50.70621647+0.j  49.9293148 +0.j ...\n",
            "    36.20724756+0.j  35.8310569 +0.j  35.82695651+0.j]]\n",
            "\n",
            " [[ 29.56936468+0.j  28.96488372+0.j  29.45607154+0.j ...\n",
            "    26.77372514+0.j  25.46199396+0.j  26.99298267+0.j]\n",
            "  [ 29.86460341+0.j  29.85978917+0.j  30.2807889 +0.j ...\n",
            "    26.95317462+0.j  26.58140021+0.j  27.27740365+0.j]\n",
            "  [ 30.38035715+0.j  29.69854708+0.j  30.45760533+0.j ...\n",
            "    27.0809176 +0.j  27.64855082+0.j  27.14639532+0.j]\n",
            "  ...\n",
            "  [ 37.36857369+0.j  42.85668807+0.j  45.04721573+0.j ...\n",
            "    23.07880294+0.j  21.48286503+0.j  23.39207062+0.j]\n",
            "  [ 44.6222338 +0.j  46.83964214+0.j  47.20700949+0.j ...\n",
            "    26.2818893 +0.j  25.77665123+0.j  26.44713334+0.j]\n",
            "  [ 45.41576787+0.j  50.03834791+0.j  49.31454771+0.j ...\n",
            "    34.47471596+0.j  34.13826642+0.j  34.48981677+0.j]]\n",
            "\n",
            " ...\n",
            "\n",
            " [[ 45.36713287+0.j  44.12472483+0.j  45.05615248+0.j ...\n",
            "    36.24929167+0.j  36.21317583+0.j  37.8352237 +0.j]\n",
            "  [ 45.52922577+0.j  44.86509416+0.j  45.70432936+0.j ...\n",
            "    36.5694956 +0.j  36.25373904+0.j  37.12312786+0.j]\n",
            "  [ 45.81075751+0.j  45.79559641+0.j  45.19767638+0.j ...\n",
            "    36.75973317+0.j  37.14333245+0.j  36.21217639+0.j]\n",
            "  ...\n",
            "  [ 68.13319264+0.j  74.55936698+0.j  74.17465831+0.j ...\n",
            "    55.34651371+0.j  55.93174672+0.j  54.39560937+0.j]\n",
            "  [ 79.87003823+0.j  81.76990971+0.j  81.30290433+0.j ...\n",
            "    60.18778324+0.j  60.29866689+0.j  58.63826386+0.j]\n",
            "  [ 83.10658585+0.j  86.30517812+0.j  88.89056549+0.j ...\n",
            "    71.01240204+0.j  72.37613735+0.j  69.06611867+0.j]]\n",
            "\n",
            " [[ 60.0665822 +0.j  59.67365289+0.j  60.42225144+0.j ...\n",
            "    57.45247602+0.j  56.38437946+0.j  56.72763336+0.j]\n",
            "  [ 60.20502867+0.j  60.30706094+0.j  62.38228662+0.j ...\n",
            "    57.12983942+0.j  55.71285932+0.j  55.81824815+0.j]\n",
            "  [ 61.26886286+0.j  60.20111611+0.j  60.95700305+0.j ...\n",
            "    56.00296244+0.j  56.4050105 +0.j  55.14515454+0.j]\n",
            "  ...\n",
            "  [ 80.96558676+0.j  82.26309046+0.j  81.73744011+0.j ...\n",
            "    73.40567566+0.j  70.59042513+0.j  70.09510084+0.j]\n",
            "  [ 90.2700669 +0.j  89.92863098+0.j  91.050609  +0.j ...\n",
            "    82.16723195+0.j  76.7564682 +0.j  74.60927146+0.j]\n",
            "  [ 93.82387793+0.j  98.72941743+0.j  95.55634055+0.j ...\n",
            "    91.66450732+0.j  88.06689987+0.j  85.76133033+0.j]]\n",
            "\n",
            " [[ 56.83070518+0.j  56.77819366+0.j  57.69966047+0.j ...\n",
            "    45.83612356+0.j  45.7114123 +0.j  46.95660192+0.j]\n",
            "  [ 57.29671045+0.j  57.73444042+0.j  58.3750016 +0.j ...\n",
            "    45.80059678+0.j  45.61199403+0.j  46.38900362+0.j]\n",
            "  [ 57.78891043+0.j  58.0686505 +0.j  57.76590198+0.j ...\n",
            "    46.33743224+0.j  45.99727973+0.j  45.20959383+0.j]\n",
            "  ...\n",
            "  [ 97.16228686+0.j 103.86281256+0.j 103.79919204+0.j ...\n",
            "    57.98719845+0.j  56.94669789+0.j  54.28907141+0.j]\n",
            "  [106.92007891+0.j 109.57244821+0.j 108.47847217+0.j ...\n",
            "    63.59103425+0.j  61.98231991+0.j  60.71643699+0.j]\n",
            "  [107.08252505+0.j 110.4489286 +0.j 111.87820826+0.j ...\n",
            "    72.62493109+0.j  74.23422354+0.j  71.12731713+0.j]]] (50, 112, 92)\n"
          ],
          "name": "stdout"
        }
      ]
    },
    {
      "cell_type": "code",
      "metadata": {
        "colab": {
          "base_uri": "https://localhost:8080/"
        },
        "id": "v-oSZaq2maF0",
        "outputId": "30b678f7-4f8c-47f1-8574-d2ffe1a96bc2"
      },
      "source": [
        "print('test_reconstruct.shape : ',test_reconstruct.shape)\n",
        "print('test_shape : ', ori_test.shape)"
      ],
      "execution_count": 59,
      "outputs": [
        {
          "output_type": "stream",
          "text": [
            "test_reconstruct.shape :  (50, 112, 92)\n",
            "test_shape :  (50, 112, 92)\n"
          ],
          "name": "stdout"
        }
      ]
    },
    {
      "cell_type": "code",
      "metadata": {
        "colab": {
          "base_uri": "https://localhost:8080/"
        },
        "id": "VUS1t4VXyRir",
        "outputId": "64d942de-e911-46e8-fdae-8e1a374d5c7a"
      },
      "source": [
        "re_test_reconstruct = test_reconstruct.reshape(5,10,112,92)\n",
        "print(re_test_reconstruct, re_test_reconstruct.shape)"
      ],
      "execution_count": 61,
      "outputs": [
        {
          "output_type": "stream",
          "text": [
            "[[[[ 29.66625178+0.j  29.13579361+0.j  29.43906173+0.j ...\n",
            "     30.01924972+0.j  28.6203832 +0.j  30.24811292+0.j]\n",
            "   [ 29.91476627+0.j  29.79787168+0.j  30.40908104+0.j ...\n",
            "     30.43370512+0.j  29.98498111+0.j  30.57567056+0.j]\n",
            "   [ 30.74108559+0.j  29.62331388+0.j  30.45608686+0.j ...\n",
            "     30.09682589+0.j  30.94203526+0.j  30.69478586+0.j]\n",
            "   ...\n",
            "   [ 29.16965688+0.j  34.37601407+0.j  36.83649162+0.j ...\n",
            "     31.01460811+0.j  30.01196373+0.j  31.96289642+0.j]\n",
            "   [ 36.63301263+0.j  39.00468883+0.j  40.4063687 +0.j ...\n",
            "     34.90819227+0.j  33.74616683+0.j  34.31529646+0.j]\n",
            "   [ 39.12582938+0.j  44.69848106+0.j  43.60766019+0.j ...\n",
            "     43.43712251+0.j  42.68082111+0.j  42.44834814+0.j]]\n",
            "\n",
            "  [[ 31.35900572+0.j  30.80392734+0.j  31.27189098+0.j ...\n",
            "     28.73451283+0.j  27.45142823+0.j  29.019453  +0.j]\n",
            "   [ 31.6151963 +0.j  31.7220317 +0.j  32.00409052+0.j ...\n",
            "     28.97586869+0.j  28.56785569+0.j  29.24783021+0.j]\n",
            "   [ 32.29468189+0.j  31.49425642+0.j  32.28620518+0.j ...\n",
            "     28.99191706+0.j  29.60817318+0.j  29.05670431+0.j]\n",
            "   ...\n",
            "   [ 37.17099801+0.j  42.93132275+0.j  44.52816965+0.j ...\n",
            "     24.76435312+0.j  23.17451061+0.j  24.85485314+0.j]\n",
            "   [ 45.13968975+0.j  47.19180304+0.j  47.35654513+0.j ...\n",
            "     28.16309289+0.j  27.3611334 +0.j  27.89208625+0.j]\n",
            "   [ 46.53280684+0.j  50.70621647+0.j  49.9293148 +0.j ...\n",
            "     36.20724756+0.j  35.8310569 +0.j  35.82695651+0.j]]\n",
            "\n",
            "  [[ 29.56936468+0.j  28.96488372+0.j  29.45607154+0.j ...\n",
            "     26.77372514+0.j  25.46199396+0.j  26.99298267+0.j]\n",
            "   [ 29.86460341+0.j  29.85978917+0.j  30.2807889 +0.j ...\n",
            "     26.95317462+0.j  26.58140021+0.j  27.27740365+0.j]\n",
            "   [ 30.38035715+0.j  29.69854708+0.j  30.45760533+0.j ...\n",
            "     27.0809176 +0.j  27.64855082+0.j  27.14639532+0.j]\n",
            "   ...\n",
            "   [ 37.36857369+0.j  42.85668807+0.j  45.04721573+0.j ...\n",
            "     23.07880294+0.j  21.48286503+0.j  23.39207062+0.j]\n",
            "   [ 44.6222338 +0.j  46.83964214+0.j  47.20700949+0.j ...\n",
            "     26.2818893 +0.j  25.77665123+0.j  26.44713334+0.j]\n",
            "   [ 45.41576787+0.j  50.03834791+0.j  49.31454771+0.j ...\n",
            "     34.47471596+0.j  34.13826642+0.j  34.48981677+0.j]]\n",
            "\n",
            "  ...\n",
            "\n",
            "  [[ 29.35287041+0.j  29.001266  +0.j  29.23240975+0.j ...\n",
            "     30.33863841+0.j  28.77767225+0.j  30.37157673+0.j]\n",
            "   [ 29.67910591+0.j  29.63595388+0.j  30.1849152 +0.j ...\n",
            "     30.69501935+0.j  30.33206443+0.j  30.856536  +0.j]\n",
            "   [ 30.49482773+0.j  29.45507289+0.j  30.3202759 +0.j ...\n",
            "     30.33983698+0.j  31.22880232+0.j  31.05516221+0.j]\n",
            "   ...\n",
            "   [ 35.52897102+0.j  40.73649647+0.j  43.71730282+0.j ...\n",
            "     34.41610521+0.j  32.93068493+0.j  35.10127856+0.j]\n",
            "   [ 42.28994669+0.j  44.7468295 +0.j  46.51326711+0.j ...\n",
            "     38.24914439+0.j  36.75511158+0.j  37.56651884+0.j]\n",
            "   [ 43.97861718+0.j  49.73681302+0.j  48.79070773+0.j ...\n",
            "     46.35888117+0.j  45.51124034+0.j  45.38981752+0.j]]\n",
            "\n",
            "  [[ 35.61933379+0.j  35.25220055+0.j  35.90516977+0.j ...\n",
            "     27.93730048+0.j  26.73141276+0.j  28.23577617+0.j]\n",
            "   [ 36.29598691+0.j  36.35922476+0.j  36.37811336+0.j ...\n",
            "     27.82357802+0.j  27.54663085+0.j  28.40280689+0.j]\n",
            "   [ 36.62796817+0.j  36.56993766+0.j  36.78774237+0.j ...\n",
            "     28.384546  +0.j  28.41034058+0.j  27.61830877+0.j]\n",
            "   ...\n",
            "   [ 77.72106751+0.j  82.79320122+0.j  83.50157323+0.j ...\n",
            "     36.13562691+0.j  33.24497355+0.j  34.4352329 +0.j]\n",
            "   [ 85.19962296+0.j  85.75026779+0.j  85.62900897+0.j ...\n",
            "     39.62564076+0.j  38.77935134+0.j  39.50723552+0.j]\n",
            "   [ 83.63881344+0.j  85.30951707+0.j  86.08090896+0.j ...\n",
            "     47.21473535+0.j  47.78981107+0.j  46.86222004+0.j]]\n",
            "\n",
            "  [[ 31.47211973+0.j  31.22022027+0.j  31.3280995 +0.j ...\n",
            "     34.46616466+0.j  32.61991194+0.j  34.13808581+0.j]\n",
            "   [ 31.8594048 +0.j  31.68473257+0.j  32.36813949+0.j ...\n",
            "     34.74620833+0.j  34.47747923+0.j  34.83500724+0.j]\n",
            "   [ 32.61873699+0.j  31.56626973+0.j  32.44516243+0.j ...\n",
            "     34.24680581+0.j  35.26210802+0.j  35.29980238+0.j]\n",
            "   ...\n",
            "   [ 36.54463902+0.j  41.38150956+0.j  45.56130238+0.j ...\n",
            "     38.68920982+0.j  37.03386429+0.j  39.71652112+0.j]\n",
            "   [ 42.03047627+0.j  44.47703442+0.j  47.50049373+0.j ...\n",
            "     42.27908174+0.j  40.60477839+0.j  41.78720425+0.j]\n",
            "   [ 42.98684845+0.j  49.40198177+0.j  48.79628584+0.j ...\n",
            "     49.95986017+0.j  49.07558647+0.j  49.25620242+0.j]]]\n",
            "\n",
            "\n",
            " [[[ 46.49440461+0.j  45.98583076+0.j  45.83849301+0.j ...\n",
            "     55.24145745+0.j  53.97979571+0.j  56.08197592+0.j]\n",
            "   [ 46.23550935+0.j  46.10263752+0.j  47.61362008+0.j ...\n",
            "     56.06512753+0.j  55.84229893+0.j  56.55036534+0.j]\n",
            "   [ 46.98411762+0.j  45.34083188+0.j  47.06683733+0.j ...\n",
            "     55.48234096+0.j  56.47297627+0.j  57.54640585+0.j]\n",
            "   ...\n",
            "   [ 26.04596786+0.j  34.27359219+0.j  39.88388128+0.j ...\n",
            "     50.46311409+0.j  51.92187972+0.j  53.54860236+0.j]\n",
            "   [ 34.40116   +0.j  41.219359  +0.j  45.46665496+0.j ...\n",
            "     54.46753645+0.j  53.67486872+0.j  55.58197881+0.j]\n",
            "   [ 42.6673097 +0.j  54.4498799 +0.j  54.10389485+0.j ...\n",
            "     62.08114827+0.j  60.89627903+0.j  64.66329779+0.j]]\n",
            "\n",
            "  [[ 65.50155557+0.j  65.12674766+0.j  65.17388533+0.j ...\n",
            "     71.22474984+0.j  69.7406793 +0.j  71.3646938 +0.j]\n",
            "   [ 65.17582701+0.j  65.69409072+0.j  65.73053354+0.j ...\n",
            "     71.76367153+0.j  72.01188042+0.j  72.12643725+0.j]\n",
            "   [ 66.00300603+0.j  64.94516475+0.j  66.29340297+0.j ...\n",
            "     71.60706262+0.j  72.42879274+0.j  73.01308594+0.j]\n",
            "   ...\n",
            "   [ 25.92525838+0.j  35.87829586+0.j  41.07202927+0.j ...\n",
            "     35.43959738+0.j  35.52710687+0.j  37.12780689+0.j]\n",
            "   [ 33.69632436+0.j  38.43830504+0.j  42.50554313+0.j ...\n",
            "     35.46940099+0.j  35.35795073+0.j  37.41366764+0.j]\n",
            "   [ 37.25566768+0.j  43.55004598+0.j  46.93613322+0.j ...\n",
            "     38.99877606+0.j  40.7597305 +0.j  43.5522716 +0.j]]\n",
            "\n",
            "  [[ 53.51302381+0.j  53.64840967+0.j  53.64488545+0.j ...\n",
            "     59.3071522 +0.j  57.88955025+0.j  59.50485237+0.j]\n",
            "   [ 53.43090842+0.j  54.09671109+0.j  55.02441009+0.j ...\n",
            "     59.84241393+0.j  59.46339996+0.j  59.88440478+0.j]\n",
            "   [ 54.67373214+0.j  52.95971644+0.j  54.69194899+0.j ...\n",
            "     59.23666065+0.j  59.88860358+0.j  60.45802623+0.j]\n",
            "   ...\n",
            "   [ 24.68332642+0.j  32.06121265+0.j  35.92296374+0.j ...\n",
            "     37.17972147+0.j  37.21782734+0.j  38.18598505+0.j]\n",
            "   [ 32.37869612+0.j  37.41540379+0.j  40.15523825+0.j ...\n",
            "     41.426108  +0.j  39.30900497+0.j  40.63410305+0.j]\n",
            "   [ 37.82539124+0.j  46.63601937+0.j  44.79339797+0.j ...\n",
            "     47.93948056+0.j  47.1000862 +0.j  49.1677099 +0.j]]\n",
            "\n",
            "  ...\n",
            "\n",
            "  [[ 57.78801672+0.j  57.11972072+0.j  57.17793131+0.j ...\n",
            "     62.18752729+0.j  60.48166507+0.j  62.34083459+0.j]\n",
            "   [ 57.6465813 +0.j  57.57414836+0.j  58.46456725+0.j ...\n",
            "     62.26261978+0.j  61.59021518+0.j  62.26425854+0.j]\n",
            "   [ 58.41495961+0.j  56.79628577+0.j  58.49810963+0.j ...\n",
            "     61.41048856+0.j  62.4375423 +0.j  62.31421668+0.j]\n",
            "   ...\n",
            "   [ 48.91738496+0.j  55.94945182+0.j  57.06015695+0.j ...\n",
            "     49.96278086+0.j  48.91527166+0.j  50.65430031+0.j]\n",
            "   [ 59.89239703+0.j  62.40333975+0.j  64.48918554+0.j ...\n",
            "     55.1281803 +0.j  53.26485563+0.j  54.65852834+0.j]\n",
            "   [ 66.98934593+0.j  73.35903207+0.j  71.97034496+0.j ...\n",
            "     62.15632485+0.j  59.7128862 +0.j  62.85991397+0.j]]\n",
            "\n",
            "  [[ 67.4214649 +0.j  67.00329289+0.j  66.9684892 +0.j ...\n",
            "     73.70701266+0.j  72.13032754+0.j  73.91557646+0.j]\n",
            "   [ 67.13472334+0.j  67.36777708+0.j  67.58183006+0.j ...\n",
            "     74.17524015+0.j  74.24014985+0.j  74.41107422+0.j]\n",
            "   [ 68.09082212+0.j  66.71444103+0.j  67.98994005+0.j ...\n",
            "     73.5485806 +0.j  74.65142405+0.j  75.11068987+0.j]\n",
            "   ...\n",
            "   [ 26.54348289+0.j  36.049498  +0.j  39.91230927+0.j ...\n",
            "     42.44146757+0.j  42.82632084+0.j  44.10353128+0.j]\n",
            "   [ 35.71284181+0.j  39.71054394+0.j  43.57781344+0.j ...\n",
            "     44.12823578+0.j  43.51307708+0.j  45.16257759+0.j]\n",
            "   [ 40.78238195+0.j  46.97424948+0.j  49.29850159+0.j ...\n",
            "     48.91993825+0.j  49.85086639+0.j  51.92329427+0.j]]\n",
            "\n",
            "  [[ 55.7208942 +0.j  55.67369638+0.j  55.57013149+0.j ...\n",
            "     62.37138952+0.j  60.7079067 +0.j  62.554469  +0.j]\n",
            "   [ 55.71847529+0.j  55.7861046 +0.j  57.17203356+0.j ...\n",
            "     62.5787503 +0.j  62.43276893+0.j  63.00462651+0.j]\n",
            "   [ 56.33522624+0.j  54.84179251+0.j  56.52374073+0.j ...\n",
            "     62.05461172+0.j  62.86595323+0.j  63.73895734+0.j]\n",
            "   ...\n",
            "   [ 27.55535236+0.j  35.37450861+0.j  40.71622289+0.j ...\n",
            "     37.05093518+0.j  37.72930627+0.j  39.1290271 +0.j]\n",
            "   [ 34.39734237+0.j  40.35677047+0.j  43.85537438+0.j ...\n",
            "     41.34898894+0.j  40.53782275+0.j  42.6075124 +0.j]\n",
            "   [ 39.39753039+0.j  50.2662472 +0.j  48.56950762+0.j ...\n",
            "     48.73814684+0.j  47.82660228+0.j  51.77456859+0.j]]]\n",
            "\n",
            "\n",
            " [[[105.13829321+0.j 104.67201366+0.j 105.04258428+0.j ...\n",
            "    104.79477132+0.j 102.4537209 +0.j 103.17895509+0.j]\n",
            "   [105.70225066+0.j 104.99761419+0.j 105.75199734+0.j ...\n",
            "    103.72168419+0.j 103.49888899+0.j 103.28354943+0.j]\n",
            "   [105.74875713+0.j 105.50613258+0.j 105.60352804+0.j ...\n",
            "    103.36307169+0.j 103.31241165+0.j 103.02363189+0.j]\n",
            "   ...\n",
            "   [111.82932154+0.j 115.41209854+0.j 117.99426935+0.j ...\n",
            "     78.6623807 +0.j  75.41322652+0.j  77.1289013 +0.j]\n",
            "   [117.91725916+0.j 114.56275368+0.j 121.62518187+0.j ...\n",
            "     80.95489113+0.j  79.11037422+0.j  81.13896644+0.j]\n",
            "   [115.94204871+0.j 115.64090478+0.j 121.09042675+0.j ...\n",
            "     83.71465916+0.j  85.43032623+0.j  86.20214566+0.j]]\n",
            "\n",
            "  [[ 99.98244102+0.j  99.14406577+0.j  99.30884861+0.j ...\n",
            "    104.4006419 +0.j 102.72388628+0.j 103.9841831 +0.j]\n",
            "   [ 99.80428218+0.j  99.49583702+0.j  99.57810356+0.j ...\n",
            "    104.49845477+0.j 104.40921481+0.j 104.11196878+0.j]\n",
            "   [100.68770314+0.j  99.75133081+0.j 100.12966602+0.j ...\n",
            "    103.64408871+0.j 104.39619969+0.j 104.36175252+0.j]\n",
            "   ...\n",
            "   [ 77.34999748+0.j  84.79514097+0.j  86.77890877+0.j ...\n",
            "     83.32613745+0.j  82.3178376 +0.j  83.23228912+0.j]\n",
            "   [ 87.82692128+0.j  86.88439308+0.j  93.64759294+0.j ...\n",
            "     84.46369862+0.j  82.69187921+0.j  83.91172173+0.j]\n",
            "   [ 92.00429415+0.j  92.45919995+0.j  99.67565564+0.j ...\n",
            "     86.75146205+0.j  88.96009947+0.j  88.63679756+0.j]]\n",
            "\n",
            "  [[106.4677982 +0.j 105.97549275+0.j 106.41795836+0.j ...\n",
            "    105.68612741+0.j 103.38733395+0.j 103.92492688+0.j]\n",
            "   [107.02376187+0.j 106.25050911+0.j 107.26205543+0.j ...\n",
            "    104.48201247+0.j 104.33610315+0.j 104.02955036+0.j]\n",
            "   [106.85604668+0.j 106.87994834+0.j 106.87459537+0.j ...\n",
            "    104.21083642+0.j 104.14111837+0.j 103.84191369+0.j]\n",
            "   ...\n",
            "   [116.55760749+0.j 120.01055576+0.j 123.44527617+0.j ...\n",
            "     80.99832279+0.j  77.69331761+0.j  79.27960043+0.j]\n",
            "   [121.86366464+0.j 118.94587556+0.j 126.21847873+0.j ...\n",
            "     83.21029555+0.j  81.46002448+0.j  83.31022141+0.j]\n",
            "   [118.93867744+0.j 119.42738385+0.j 125.19911462+0.j ...\n",
            "     86.14603727+0.j  87.90417905+0.j  88.87264531+0.j]]\n",
            "\n",
            "  ...\n",
            "\n",
            "  [[104.14176845+0.j 103.71060777+0.j 103.79041464+0.j ...\n",
            "    111.30960933+0.j 109.2013878 +0.j 109.87869679+0.j]\n",
            "   [103.81886177+0.j 103.82424491+0.j 104.20011411+0.j ...\n",
            "    111.03267545+0.j 111.15420602+0.j 110.22976433+0.j]\n",
            "   [104.67865064+0.j 103.85638673+0.j 104.46591285+0.j ...\n",
            "    109.72374852+0.j 111.08464839+0.j 110.98690342+0.j]\n",
            "   ...\n",
            "   [ 66.12752952+0.j  73.99515462+0.j  78.25333917+0.j ...\n",
            "     79.52749282+0.j  77.91372405+0.j  78.83683639+0.j]\n",
            "   [ 74.34149054+0.j  74.80847789+0.j  81.79451074+0.j ...\n",
            "     80.73983313+0.j  78.05208343+0.j  78.7123953 +0.j]\n",
            "   [ 75.95595532+0.j  78.94068842+0.j  85.05831847+0.j ...\n",
            "     82.86818569+0.j  84.24696764+0.j  84.38822159+0.j]]\n",
            "\n",
            "  [[104.74223309+0.j 104.67124704+0.j 105.10642899+0.j ...\n",
            "    101.73777627+0.j  99.42473573+0.j 100.22509734+0.j]\n",
            "   [105.49825464+0.j 105.20519746+0.j 105.52012924+0.j ...\n",
            "    100.5398438 +0.j 100.64962089+0.j 100.59397876+0.j]\n",
            "   [105.3680691 +0.j 105.43117809+0.j 105.53337126+0.j ...\n",
            "    100.89690372+0.j 100.31413865+0.j 100.25219201+0.j]\n",
            "   ...\n",
            "   [104.09168191+0.j 108.71671702+0.j 112.10068628+0.j ...\n",
            "     55.22449054+0.j  52.12308896+0.j  53.6892572 +0.j]\n",
            "   [108.38270657+0.j 105.95354043+0.j 112.12161677+0.j ...\n",
            "     56.03686542+0.j  55.52996898+0.j  58.38250806+0.j]\n",
            "   [103.65434093+0.j 103.09804353+0.j 108.46544049+0.j ...\n",
            "     57.98679753+0.j  61.36143147+0.j  62.97903977+0.j]]\n",
            "\n",
            "  [[ 91.2692757 +0.j  90.18934182+0.j  90.46681967+0.j ...\n",
            "     92.14060036+0.j  90.78383264+0.j  92.58951047+0.j]\n",
            "   [ 91.28583415+0.j  90.74736656+0.j  90.59557499+0.j ...\n",
            "     92.38872242+0.j  92.32299926+0.j  92.6635012 +0.j]\n",
            "   [ 91.90768979+0.j  91.04437824+0.j  91.27010892+0.j ...\n",
            "     92.26060827+0.j  92.41921437+0.j  92.54710938+0.j]\n",
            "   ...\n",
            "   [ 71.38864613+0.j  79.03759091+0.j  80.10452673+0.j ...\n",
            "     66.01738925+0.j  65.96978134+0.j  66.98914695+0.j]\n",
            "   [ 82.3521348 +0.j  81.37875692+0.j  87.08326862+0.j ...\n",
            "     66.50603896+0.j  66.74207649+0.j  68.76635893+0.j]\n",
            "   [ 86.96932344+0.j  86.45520663+0.j  93.64267284+0.j ...\n",
            "     69.52629474+0.j  72.92206495+0.j  73.21203493+0.j]]]\n",
            "\n",
            "\n",
            " [[[ 77.22192887+0.j  75.8482505 +0.j  76.2656917 +0.j ...\n",
            "     79.60507313+0.j  78.6262636 +0.j  80.16471682+0.j]\n",
            "   [ 76.69746897+0.j  75.95877761+0.j  77.4603944 +0.j ...\n",
            "     79.60679275+0.j  79.68484355+0.j  79.992129  +0.j]\n",
            "   [ 76.57890031+0.j  75.91865099+0.j  76.64631936+0.j ...\n",
            "     79.36790566+0.j  80.29864209+0.j  80.54057817+0.j]\n",
            "   ...\n",
            "   [ 28.5813601 +0.j  37.894726  +0.j  42.64576048+0.j ...\n",
            "     42.17302167+0.j  44.43589235+0.j  44.64524   +0.j]\n",
            "   [ 38.19356625+0.j  43.20974455+0.j  46.78259591+0.j ...\n",
            "     44.15570618+0.j  45.85766247+0.j  46.52473938+0.j]\n",
            "   [ 43.42256889+0.j  51.91118547+0.j  55.10744644+0.j ...\n",
            "     51.60722077+0.j  52.90406307+0.j  56.28668584+0.j]]\n",
            "\n",
            "  [[ 80.70285024+0.j  79.3557307 +0.j  79.81869209+0.j ...\n",
            "     81.69704675+0.j  80.49722287+0.j  82.00620911+0.j]\n",
            "   [ 80.28222805+0.j  79.64782688+0.j  80.81952274+0.j ...\n",
            "     81.45717817+0.j  81.50923075+0.j  81.87098752+0.j]\n",
            "   [ 80.06232358+0.j  79.48055728+0.j  80.29865002+0.j ...\n",
            "     81.44896896+0.j  82.13488266+0.j  82.2180837 +0.j]\n",
            "   ...\n",
            "   [ 32.98332516+0.j  42.07943822+0.j  46.18276622+0.j ...\n",
            "     34.05289709+0.j  35.50646382+0.j  36.1959326 +0.j]\n",
            "   [ 42.34062949+0.j  46.23055653+0.j  49.47705933+0.j ...\n",
            "     35.38495426+0.j  37.37065446+0.j  38.5965405 +0.j]\n",
            "   [ 46.33809073+0.j  53.08536757+0.j  56.2965645 +0.j ...\n",
            "     41.82849836+0.j  43.37105575+0.j  47.42524099+0.j]]\n",
            "\n",
            "  [[ 64.51137872+0.j  63.46410735+0.j  63.98443436+0.j ...\n",
            "     64.15039638+0.j  63.38435056+0.j  64.83223427+0.j]\n",
            "   [ 64.34922687+0.j  63.76191166+0.j  65.41869237+0.j ...\n",
            "     64.1986608 +0.j  64.20209466+0.j  64.74135412+0.j]\n",
            "   [ 64.16819896+0.j  63.93579355+0.j  64.45972803+0.j ...\n",
            "     64.35424192+0.j  64.80023231+0.j  65.01823403+0.j]\n",
            "   ...\n",
            "   [ 58.19765705+0.j  65.9762224 +0.j  70.83906373+0.j ...\n",
            "     54.19841174+0.j  55.24408995+0.j  55.32322957+0.j]\n",
            "   [ 66.48241894+0.j  71.47485049+0.j  74.73785724+0.j ...\n",
            "     57.19368442+0.j  57.89754187+0.j  58.50591751+0.j]\n",
            "   [ 70.10646156+0.j  78.72406763+0.j  81.64554577+0.j ...\n",
            "     65.16585193+0.j  66.07967652+0.j  68.5088477 +0.j]]\n",
            "\n",
            "  ...\n",
            "\n",
            "  [[ 71.58371624+0.j  70.61813686+0.j  70.69739123+0.j ...\n",
            "     76.87182227+0.j  75.52802077+0.j  77.48710579+0.j]\n",
            "   [ 71.37174118+0.j  70.753008  +0.j  71.83413057+0.j ...\n",
            "     77.18149931+0.j  77.3987036 +0.j  77.92324313+0.j]\n",
            "   [ 71.43503647+0.j  70.55482163+0.j  71.54303715+0.j ...\n",
            "     77.16694386+0.j  77.77627015+0.j  78.7221696 +0.j]\n",
            "   ...\n",
            "   [ 39.09367694+0.j  48.17064817+0.j  53.99981844+0.j ...\n",
            "     47.75989847+0.j  49.44152929+0.j  50.97292846+0.j]\n",
            "   [ 47.1251147 +0.j  52.01017938+0.j  57.50367332+0.j ...\n",
            "     48.8239987 +0.j  50.31093371+0.j  52.83292189+0.j]\n",
            "   [ 52.33954856+0.j  60.55708574+0.j  64.57408663+0.j ...\n",
            "     54.39631011+0.j  56.1808682 +0.j  60.34607054+0.j]]\n",
            "\n",
            "  [[ 76.1397353 +0.j  74.9041834 +0.j  75.39072863+0.j ...\n",
            "     77.50043456+0.j  76.35779502+0.j  77.66144088+0.j]\n",
            "   [ 75.69476561+0.j  75.29378724+0.j  76.46086756+0.j ...\n",
            "     77.37780146+0.j  77.46055155+0.j  77.69135673+0.j]\n",
            "   [ 75.54620952+0.j  75.11762102+0.j  75.9852261 +0.j ...\n",
            "     77.44404917+0.j  78.10901595+0.j  78.19947643+0.j]\n",
            "   ...\n",
            "   [ 37.33899155+0.j  46.24008871+0.j  51.16647425+0.j ...\n",
            "     37.86631586+0.j  38.75586452+0.j  39.59548846+0.j]\n",
            "   [ 45.82527097+0.j  50.16426075+0.j  53.64077414+0.j ...\n",
            "     38.83719892+0.j  40.24512552+0.j  41.33223497+0.j]\n",
            "   [ 49.0917869 +0.j  56.26037278+0.j  59.83294872+0.j ...\n",
            "     44.76624411+0.j  46.18463196+0.j  50.00765937+0.j]]\n",
            "\n",
            "  [[ 74.09588856+0.j  72.70717473+0.j  73.19075574+0.j ...\n",
            "     74.87175741+0.j  74.00658299+0.j  75.63602457+0.j]\n",
            "   [ 73.70505072+0.j  73.00291086+0.j  74.35235019+0.j ...\n",
            "     74.93082338+0.j  75.05861216+0.j  75.5793882 +0.j]\n",
            "   [ 73.43098749+0.j  73.01352485+0.j  73.68655543+0.j ...\n",
            "     75.17068422+0.j  75.66780498+0.j  76.01496353+0.j]\n",
            "   ...\n",
            "   [ 39.00353322+0.j  48.13243961+0.j  53.02764294+0.j ...\n",
            "     41.11160321+0.j  43.06498064+0.j  43.55424145+0.j]\n",
            "   [ 48.07829437+0.j  52.95075804+0.j  56.61791167+0.j ...\n",
            "     42.34646699+0.j  44.52861569+0.j  45.78191644+0.j]\n",
            "   [ 52.63288879+0.j  60.41687231+0.j  64.42864471+0.j ...\n",
            "     49.17034928+0.j  51.09135607+0.j  54.86966369+0.j]]]\n",
            "\n",
            "\n",
            " [[[ 45.1486362 +0.j  44.24408239+0.j  45.07843453+0.j ...\n",
            "     37.30840664+0.j  36.93917667+0.j  38.36334577+0.j]\n",
            "   [ 45.3748378 +0.j  44.92525292+0.j  45.76539651+0.j ...\n",
            "     37.45822694+0.j  37.11259252+0.j  37.76847529+0.j]\n",
            "   [ 45.81174312+0.j  45.6749388 +0.j  45.25946852+0.j ...\n",
            "     37.36085469+0.j  37.95343057+0.j  36.95737519+0.j]\n",
            "   ...\n",
            "   [ 66.80467621+0.j  72.79768898+0.j  72.71233884+0.j ...\n",
            "     54.53326939+0.j  54.34503352+0.j  53.0373078 +0.j]\n",
            "   [ 77.58285655+0.j  79.36433129+0.j  78.89728646+0.j ...\n",
            "     59.92679369+0.j  59.08396592+0.j  57.35266371+0.j]\n",
            "   [ 79.73789253+0.j  83.3328832 +0.j  84.73628316+0.j ...\n",
            "     70.58406205+0.j  71.20480567+0.j  67.80102913+0.j]]\n",
            "\n",
            "  [[ 53.68892451+0.j  53.33432187+0.j  54.50550878+0.j ...\n",
            "     39.71882249+0.j  40.27772465+0.j  41.60299217+0.j]\n",
            "   [ 54.06875243+0.j  54.59892743+0.j  55.19036707+0.j ...\n",
            "     39.98012421+0.j  40.12667359+0.j  41.20651387+0.j]\n",
            "   [ 54.06742231+0.j  55.08546343+0.j  54.5974986 +0.j ...\n",
            "     41.62981331+0.j  40.54661237+0.j  40.10241631+0.j]\n",
            "   ...\n",
            "   [106.29863797+0.j 114.31166305+0.j 115.9483476 +0.j ...\n",
            "     54.04871176+0.j  53.73473744+0.j  50.86119646+0.j]\n",
            "   [115.30563812+0.j 119.7953167 +0.j 118.85960025+0.j ...\n",
            "     57.18395479+0.j  57.48190089+0.j  56.82962096+0.j]\n",
            "   [114.82690548+0.j 118.72020639+0.j 123.03898638+0.j ...\n",
            "     65.19989235+0.j  68.82155514+0.j  66.94382836+0.j]]\n",
            "\n",
            "  [[ 75.09016235+0.j  74.95125166+0.j  75.72414721+0.j ...\n",
            "     69.86317976+0.j  68.96997259+0.j  69.62895989+0.j]\n",
            "   [ 75.31627593+0.j  75.55752631+0.j  77.32624239+0.j ...\n",
            "     69.30350659+0.j  68.35352011+0.j  68.69767156+0.j]\n",
            "   [ 76.0310123 +0.j  75.3074714 +0.j  75.89058343+0.j ...\n",
            "     68.76961416+0.j  68.70866035+0.j  67.80018205+0.j]\n",
            "   ...\n",
            "   [ 83.2765555 +0.j  87.04092555+0.j  86.74744148+0.j ...\n",
            "     61.38251538+0.j  59.77510764+0.j  58.12340409+0.j]\n",
            "   [ 92.69255905+0.j  93.60512056+0.j  94.15792808+0.j ...\n",
            "     69.15899872+0.j  65.62303359+0.j  64.27015078+0.j]\n",
            "   [ 95.18088927+0.j 100.04233562+0.j  97.89727193+0.j ...\n",
            "     78.08975343+0.j  76.65576731+0.j  75.50555743+0.j]]\n",
            "\n",
            "  ...\n",
            "\n",
            "  [[ 45.36713287+0.j  44.12472483+0.j  45.05615248+0.j ...\n",
            "     36.24929167+0.j  36.21317583+0.j  37.8352237 +0.j]\n",
            "   [ 45.52922577+0.j  44.86509416+0.j  45.70432936+0.j ...\n",
            "     36.5694956 +0.j  36.25373904+0.j  37.12312786+0.j]\n",
            "   [ 45.81075751+0.j  45.79559641+0.j  45.19767638+0.j ...\n",
            "     36.75973317+0.j  37.14333245+0.j  36.21217639+0.j]\n",
            "   ...\n",
            "   [ 68.13319264+0.j  74.55936698+0.j  74.17465831+0.j ...\n",
            "     55.34651371+0.j  55.93174672+0.j  54.39560937+0.j]\n",
            "   [ 79.87003823+0.j  81.76990971+0.j  81.30290433+0.j ...\n",
            "     60.18778324+0.j  60.29866689+0.j  58.63826386+0.j]\n",
            "   [ 83.10658585+0.j  86.30517812+0.j  88.89056549+0.j ...\n",
            "     71.01240204+0.j  72.37613735+0.j  69.06611867+0.j]]\n",
            "\n",
            "  [[ 60.0665822 +0.j  59.67365289+0.j  60.42225144+0.j ...\n",
            "     57.45247602+0.j  56.38437946+0.j  56.72763336+0.j]\n",
            "   [ 60.20502867+0.j  60.30706094+0.j  62.38228662+0.j ...\n",
            "     57.12983942+0.j  55.71285932+0.j  55.81824815+0.j]\n",
            "   [ 61.26886286+0.j  60.20111611+0.j  60.95700305+0.j ...\n",
            "     56.00296244+0.j  56.4050105 +0.j  55.14515454+0.j]\n",
            "   ...\n",
            "   [ 80.96558676+0.j  82.26309046+0.j  81.73744011+0.j ...\n",
            "     73.40567566+0.j  70.59042513+0.j  70.09510084+0.j]\n",
            "   [ 90.2700669 +0.j  89.92863098+0.j  91.050609  +0.j ...\n",
            "     82.16723195+0.j  76.7564682 +0.j  74.60927146+0.j]\n",
            "   [ 93.82387793+0.j  98.72941743+0.j  95.55634055+0.j ...\n",
            "     91.66450732+0.j  88.06689987+0.j  85.76133033+0.j]]\n",
            "\n",
            "  [[ 56.83070518+0.j  56.77819366+0.j  57.69966047+0.j ...\n",
            "     45.83612356+0.j  45.7114123 +0.j  46.95660192+0.j]\n",
            "   [ 57.29671045+0.j  57.73444042+0.j  58.3750016 +0.j ...\n",
            "     45.80059678+0.j  45.61199403+0.j  46.38900362+0.j]\n",
            "   [ 57.78891043+0.j  58.0686505 +0.j  57.76590198+0.j ...\n",
            "     46.33743224+0.j  45.99727973+0.j  45.20959383+0.j]\n",
            "   ...\n",
            "   [ 97.16228686+0.j 103.86281256+0.j 103.79919204+0.j ...\n",
            "     57.98719845+0.j  56.94669789+0.j  54.28907141+0.j]\n",
            "   [106.92007891+0.j 109.57244821+0.j 108.47847217+0.j ...\n",
            "     63.59103425+0.j  61.98231991+0.j  60.71643699+0.j]\n",
            "   [107.08252505+0.j 110.4489286 +0.j 111.87820826+0.j ...\n",
            "     72.62493109+0.j  74.23422354+0.j  71.12731713+0.j]]]] (5, 10, 112, 92)\n"
          ],
          "name": "stdout"
        }
      ]
    },
    {
      "cell_type": "code",
      "metadata": {
        "id": "YECSI1T4yRlW"
      },
      "source": [
        "for i in range(5):\n",
        "  for j in range(10):\n",
        "    "
      ],
      "execution_count": null,
      "outputs": []
    },
    {
      "cell_type": "code",
      "metadata": {
        "id": "5tXHxONuyRoM"
      },
      "source": [
        ""
      ],
      "execution_count": null,
      "outputs": []
    },
    {
      "cell_type": "code",
      "metadata": {
        "id": "_mKYwgojyRq8"
      },
      "source": [
        ""
      ],
      "execution_count": null,
      "outputs": []
    },
    {
      "cell_type": "code",
      "metadata": {
        "colab": {
          "base_uri": "https://localhost:8080/",
          "height": 287
        },
        "id": "aAYVt8uUmaIK",
        "outputId": "d7474f64-6e34-480b-8a31-47cdf33181a7"
      },
      "source": [
        "plt.imshow(ori_test[36].astype(np.float32))"
      ],
      "execution_count": 48,
      "outputs": [
        {
          "output_type": "execute_result",
          "data": {
            "text/plain": [
              "<matplotlib.image.AxesImage at 0x7f25ac0d40d0>"
            ]
          },
          "metadata": {
            "tags": []
          },
          "execution_count": 48
        },
        {
          "output_type": "display_data",
          "data": {
            "image/png": "[encoded data removed]",
            "text/plain": [
              "<Figure size 432x288 with 1 Axes>"
            ]
          },
          "metadata": {
            "tags": [],
            "needs_background": "light"
          }
        }
      ]
    },
    {
      "cell_type": "code",
      "metadata": {
        "id": "H5JJBbZNmaKJ"
      },
      "source": [
        "plt.imshow(test_reconstruct[36].astype(np.float32))"
      ],
      "execution_count": null,
      "outputs": []
    },
    {
      "cell_type": "code",
      "metadata": {
        "id": "44hd3bIPmx6E"
      },
      "source": [
        "# n_components = 2\n",
        "plt.scatter(test_transformed[:,0],test_transformed[:,1])"
      ],
      "execution_count": null,
      "outputs": []
    },
    {
      "cell_type": "code",
      "metadata": {
        "id": "0C3t9H5uyzcE"
      },
      "source": [
        "fig = plt.figure(figsize=(6,6))\n",
        "ax = fig.gca(projection='3d')\n",
        "x = test_transformed[:,0]\n",
        "y = test_transformed[:,1]\n",
        "z = test_transformed[:,2]\n",
        "ax.scatter(x,y,z)\n",
        "plt.show()"
      ],
      "execution_count": null,
      "outputs": []
    },
    {
      "cell_type": "code",
      "metadata": {
        "id": "g1FZp1t33EqS"
      },
      "source": [
        "ori_test.reshape(50,112,92)[1]"
      ],
      "execution_count": null,
      "outputs": []
    },
    {
      "cell_type": "code",
      "metadata": {
        "id": "qoJUPETl4npy"
      },
      "source": [
        "test_reconstruct[1]"
      ],
      "execution_count": null,
      "outputs": []
    },
    {
      "cell_type": "code",
      "metadata": {
        "id": "1edW3QLpA6qL"
      },
      "source": [
        "ori_test.shape"
      ],
      "execution_count": null,
      "outputs": []
    },
    {
      "cell_type": "code",
      "metadata": {
        "id": "XIQi1xbGAufs"
      },
      "source": [
        "fig, axes = plt.subplots(5,10)\n",
        "for i in range(51):\n",
        "  for image, ax in zip(ori_test.astype(np.float32),axes.ravel()):\n",
        "    ax.imshow(image)\n",
        "\n",
        "plt.show()"
      ],
      "execution_count": null,
      "outputs": []
    },
    {
      "cell_type": "code",
      "metadata": {
        "id": "EE9sTMnL-zLv"
      },
      "source": [
        "fig, axes = plt.subplots(5,10)\n",
        "for i in range(51):\n",
        "  for image, ax in zip(test_reconstruct.astype(np.float32),axes.ravel()):\n",
        "    ax.imshow(image)\n",
        "\n",
        "plt.show()"
      ],
      "execution_count": null,
      "outputs": []
    },
    {
      "cell_type": "code",
      "metadata": {
        "id": "52DdDt3HAAOZ"
      },
      "source": [
        ""
      ],
      "execution_count": null,
      "outputs": []
    }
  ]
}